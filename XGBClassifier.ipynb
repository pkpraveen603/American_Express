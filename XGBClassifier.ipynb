{
  "nbformat": 4,
  "nbformat_minor": 0,
  "metadata": {
    "colab": {
      "name": "XGBClassifier.ipynb",
      "version": "0.3.2",
      "provenance": []
    },
    "kernelspec": {
      "name": "python3",
      "display_name": "Python 3"
    },
    "accelerator": "GPU"
  },
  "cells": [
    {
      "metadata": {
        "id": "yZDI4N_qXVay",
        "colab_type": "code",
        "colab": {}
      },
      "cell_type": "code",
      "source": [
        "import pandas as pd\n",
        "import numpy as np\n",
        "import xgboost as xgb\n",
        "from sklearn.model_selection import RandomizedSearchCV\n",
        "from sklearn.model_selection import train_test_split\n",
        "from sklearn.metrics import roc_auc_score"
      ],
      "execution_count": 0,
      "outputs": []
    },
    {
      "metadata": {
        "id": "q-JuiWzxYMK9",
        "colab_type": "code",
        "colab": {
          "base_uri": "https://localhost:8080/",
          "height": 270
        },
        "outputId": "dfbcf890-6f14-491f-fa75-36f6306f5929"
      },
      "cell_type": "code",
      "source": [
        "data = pd.read_csv('https://raw.githubusercontent.com/pasha00786/AmEx/master/data.csv')\n",
        "data.head()"
      ],
      "execution_count": 2,
      "outputs": [
        {
          "output_type": "execute_result",
          "data": {
            "text/html": [
              "<div>\n",
              "<style scoped>\n",
              "    .dataframe tbody tr th:only-of-type {\n",
              "        vertical-align: middle;\n",
              "    }\n",
              "\n",
              "    .dataframe tbody tr th {\n",
              "        vertical-align: top;\n",
              "    }\n",
              "\n",
              "    .dataframe thead th {\n",
              "        text-align: right;\n",
              "    }\n",
              "</style>\n",
              "<table border=\"1\" class=\"dataframe\">\n",
              "  <thead>\n",
              "    <tr style=\"text-align: right;\">\n",
              "      <th></th>\n",
              "      <th>Unnamed: 0</th>\n",
              "      <th>application_key</th>\n",
              "      <th>mvar1</th>\n",
              "      <th>mvar2</th>\n",
              "      <th>mvar3</th>\n",
              "      <th>mvar4</th>\n",
              "      <th>mvar5</th>\n",
              "      <th>mvar6</th>\n",
              "      <th>mvar7</th>\n",
              "      <th>mvar8</th>\n",
              "      <th>...</th>\n",
              "      <th>mvar39</th>\n",
              "      <th>mvar40</th>\n",
              "      <th>mvar41</th>\n",
              "      <th>mvar42</th>\n",
              "      <th>mvar43</th>\n",
              "      <th>mvar44</th>\n",
              "      <th>mvar45</th>\n",
              "      <th>mvar46</th>\n",
              "      <th>mvar47</th>\n",
              "      <th>default_ind</th>\n",
              "    </tr>\n",
              "  </thead>\n",
              "  <tbody>\n",
              "    <tr>\n",
              "      <th>0</th>\n",
              "      <td>0</td>\n",
              "      <td>230032.0</td>\n",
              "      <td>1696.0</td>\n",
              "      <td>1.6541</td>\n",
              "      <td>0.000</td>\n",
              "      <td>0.0</td>\n",
              "      <td>0.0</td>\n",
              "      <td>0.0</td>\n",
              "      <td>6015.0</td>\n",
              "      <td>322.0</td>\n",
              "      <td>...</td>\n",
              "      <td>1.0</td>\n",
              "      <td>73.780</td>\n",
              "      <td>82.5470</td>\n",
              "      <td>0.08696</td>\n",
              "      <td>10.0</td>\n",
              "      <td>0.63899</td>\n",
              "      <td>0.0</td>\n",
              "      <td>0.0</td>\n",
              "      <td>0.0</td>\n",
              "      <td>0.0</td>\n",
              "    </tr>\n",
              "    <tr>\n",
              "      <th>1</th>\n",
              "      <td>1</td>\n",
              "      <td>230033.0</td>\n",
              "      <td>1846.0</td>\n",
              "      <td>0.8095</td>\n",
              "      <td>0.000</td>\n",
              "      <td>0.0</td>\n",
              "      <td>0.0</td>\n",
              "      <td>102.0</td>\n",
              "      <td>7532.0</td>\n",
              "      <td>3171.0</td>\n",
              "      <td>...</td>\n",
              "      <td>0.0</td>\n",
              "      <td>99.129</td>\n",
              "      <td>78.8835</td>\n",
              "      <td>0.00000</td>\n",
              "      <td>13.0</td>\n",
              "      <td>0.63836</td>\n",
              "      <td>0.0</td>\n",
              "      <td>0.0</td>\n",
              "      <td>1.0</td>\n",
              "      <td>1.0</td>\n",
              "    </tr>\n",
              "    <tr>\n",
              "      <th>2</th>\n",
              "      <td>2</td>\n",
              "      <td>230034.0</td>\n",
              "      <td>1745.0</td>\n",
              "      <td>0.4001</td>\n",
              "      <td>0.000</td>\n",
              "      <td>0.0</td>\n",
              "      <td>0.0</td>\n",
              "      <td>297.0</td>\n",
              "      <td>2536.0</td>\n",
              "      <td>2478.0</td>\n",
              "      <td>...</td>\n",
              "      <td>0.0</td>\n",
              "      <td>100.000</td>\n",
              "      <td>29.2900</td>\n",
              "      <td>0.00000</td>\n",
              "      <td>1.0</td>\n",
              "      <td>1.00000</td>\n",
              "      <td>0.0</td>\n",
              "      <td>0.0</td>\n",
              "      <td>0.0</td>\n",
              "      <td>1.0</td>\n",
              "    </tr>\n",
              "    <tr>\n",
              "      <th>3</th>\n",
              "      <td>3</td>\n",
              "      <td>230035.0</td>\n",
              "      <td>1739.0</td>\n",
              "      <td>0.2193</td>\n",
              "      <td>0.000</td>\n",
              "      <td>0.0</td>\n",
              "      <td>0.0</td>\n",
              "      <td>1982.0</td>\n",
              "      <td>26440.0</td>\n",
              "      <td>4955.0</td>\n",
              "      <td>...</td>\n",
              "      <td>0.0</td>\n",
              "      <td>96.272</td>\n",
              "      <td>78.8835</td>\n",
              "      <td>0.15385</td>\n",
              "      <td>3.0</td>\n",
              "      <td>0.53241</td>\n",
              "      <td>0.0</td>\n",
              "      <td>0.0</td>\n",
              "      <td>1.0</td>\n",
              "      <td>0.0</td>\n",
              "    </tr>\n",
              "    <tr>\n",
              "      <th>4</th>\n",
              "      <td>4</td>\n",
              "      <td>230036.0</td>\n",
              "      <td>1787.0</td>\n",
              "      <td>0.0118</td>\n",
              "      <td>0.225</td>\n",
              "      <td>0.0</td>\n",
              "      <td>0.0</td>\n",
              "      <td>5451.0</td>\n",
              "      <td>5494.0</td>\n",
              "      <td>5494.0</td>\n",
              "      <td>...</td>\n",
              "      <td>0.0</td>\n",
              "      <td>115.019</td>\n",
              "      <td>78.8835</td>\n",
              "      <td>0.00000</td>\n",
              "      <td>1.0</td>\n",
              "      <td>0.92665</td>\n",
              "      <td>0.0</td>\n",
              "      <td>0.0</td>\n",
              "      <td>1.0</td>\n",
              "      <td>0.0</td>\n",
              "    </tr>\n",
              "  </tbody>\n",
              "</table>\n",
              "<p>5 rows × 50 columns</p>\n",
              "</div>"
            ],
            "text/plain": [
              "   Unnamed: 0  application_key   mvar1   mvar2  mvar3  mvar4  mvar5   mvar6  \\\n",
              "0           0         230032.0  1696.0  1.6541  0.000    0.0    0.0     0.0   \n",
              "1           1         230033.0  1846.0  0.8095  0.000    0.0    0.0   102.0   \n",
              "2           2         230034.0  1745.0  0.4001  0.000    0.0    0.0   297.0   \n",
              "3           3         230035.0  1739.0  0.2193  0.000    0.0    0.0  1982.0   \n",
              "4           4         230036.0  1787.0  0.0118  0.225    0.0    0.0  5451.0   \n",
              "\n",
              "     mvar7   mvar8     ...       mvar39   mvar40   mvar41   mvar42  mvar43  \\\n",
              "0   6015.0   322.0     ...          1.0   73.780  82.5470  0.08696    10.0   \n",
              "1   7532.0  3171.0     ...          0.0   99.129  78.8835  0.00000    13.0   \n",
              "2   2536.0  2478.0     ...          0.0  100.000  29.2900  0.00000     1.0   \n",
              "3  26440.0  4955.0     ...          0.0   96.272  78.8835  0.15385     3.0   \n",
              "4   5494.0  5494.0     ...          0.0  115.019  78.8835  0.00000     1.0   \n",
              "\n",
              "    mvar44  mvar45  mvar46  mvar47  default_ind  \n",
              "0  0.63899     0.0     0.0     0.0          0.0  \n",
              "1  0.63836     0.0     0.0     1.0          1.0  \n",
              "2  1.00000     0.0     0.0     0.0          1.0  \n",
              "3  0.53241     0.0     0.0     1.0          0.0  \n",
              "4  0.92665     0.0     0.0     1.0          0.0  \n",
              "\n",
              "[5 rows x 50 columns]"
            ]
          },
          "metadata": {
            "tags": []
          },
          "execution_count": 2
        }
      ]
    },
    {
      "metadata": {
        "id": "EdkkTL2bYcaZ",
        "colab_type": "code",
        "colab": {}
      },
      "cell_type": "code",
      "source": [
        "data.drop('Unnamed: 0', axis = 1, inplace = True)"
      ],
      "execution_count": 0,
      "outputs": []
    },
    {
      "metadata": {
        "id": "fzfbRTbCYncC",
        "colab_type": "code",
        "colab": {}
      },
      "cell_type": "code",
      "source": [
        "X = data.drop(['application_key', 'default_ind'], axis = 1)\n",
        "y = data['default_ind']"
      ],
      "execution_count": 0,
      "outputs": []
    },
    {
      "metadata": {
        "id": "bXMNFpg6Ytke",
        "colab_type": "code",
        "colab": {}
      },
      "cell_type": "code",
      "source": [
        "data_dmatrix = xgb.DMatrix(data = X, label =y)"
      ],
      "execution_count": 0,
      "outputs": []
    },
    {
      "metadata": {
        "id": "g3oeFlaYZFpp",
        "colab_type": "code",
        "colab": {}
      },
      "cell_type": "code",
      "source": [
        "clf = xgb.XGBClassifier()"
      ],
      "execution_count": 0,
      "outputs": []
    },
    {
      "metadata": {
        "id": "i7GMV_Fzc4Zh",
        "colab_type": "code",
        "colab": {}
      },
      "cell_type": "code",
      "source": [
        "param_grid = {\n",
        "        'silent': [False],\n",
        "        'max_depth': [6, 10, 15, 20],\n",
        "        'learning_rate': [0.001, 0.01, 0.1, 0.2, 0,3],\n",
        "        'subsample': [0.5, 0.6, 0.7, 0.8, 0.9, 1.0],\n",
        "        'colsample_bytree': [0.4, 0.5, 0.6, 0.7, 0.8, 0.9, 1.0],\n",
        "        'colsample_bylevel': [0.4, 0.5, 0.6, 0.7, 0.8, 0.9, 1.0],\n",
        "        'min_child_weight': [0.5, 1.0, 3.0, 5.0, 7.0, 10.0],\n",
        "        'gamma': [0, 0.25, 0.5, 1.0],\n",
        "        'reg_lambda': [0.1, 1.0, 5.0, 10.0, 50.0, 100.0],\n",
        "        'n_estimators': [100]}"
      ],
      "execution_count": 0,
      "outputs": []
    },
    {
      "metadata": {
        "id": "cpSEVg-Uc8MT",
        "colab_type": "code",
        "colab": {}
      },
      "cell_type": "code",
      "source": [
        "randomized_clf = RandomizedSearchCV(estimator=clf, param_distributions= param_grid, scoring = 'roc_auc', cv = 2, n_iter = 5, verbose = 1)"
      ],
      "execution_count": 0,
      "outputs": []
    },
    {
      "metadata": {
        "id": "xLSrWpt2eCoQ",
        "colab_type": "code",
        "colab": {
          "base_uri": "https://localhost:8080/",
          "height": 258
        },
        "outputId": "ea2c5538-df6d-45c2-9560-4e90615cb9a8"
      },
      "cell_type": "code",
      "source": [
        "randomized_clf.fit(X,y)"
      ],
      "execution_count": 22,
      "outputs": [
        {
          "output_type": "stream",
          "text": [
            "Fitting 2 folds for each of 5 candidates, totalling 10 fits\n"
          ],
          "name": "stdout"
        },
        {
          "output_type": "stream",
          "text": [
            "[Parallel(n_jobs=1)]: Done  10 out of  10 | elapsed:  3.3min finished\n"
          ],
          "name": "stderr"
        },
        {
          "output_type": "execute_result",
          "data": {
            "text/plain": [
              "RandomizedSearchCV(cv=2, error_score='raise',\n",
              "          estimator=XGBClassifier(base_score=0.5, booster='gbtree', colsample_bylevel=1,\n",
              "       colsample_bytree=1, gamma=0, learning_rate=0.1, max_delta_step=0,\n",
              "       max_depth=3, min_child_weight=1, missing=None, n_estimators=100,\n",
              "       n_jobs=1, nthread=None, objective='binary:logistic', random_state=0,\n",
              "       reg_alpha=0, reg_lambda=1, scale_pos_weight=1, seed=None,\n",
              "       silent=True, subsample=1),\n",
              "          fit_params=None, iid=True, n_iter=5, n_jobs=1,\n",
              "          param_distributions={'silent': [False], 'max_depth': [6, 10, 15, 20], 'learning_rate': [0.001, 0.01, 0.1, 0.2, 0, 3], 'subsample': [0.5, 0.6, 0.7, 0.8, 0.9, 1.0], 'colsample_bytree': [0.4, 0.5, 0.6, 0.7, 0.8, 0.9, 1.0], 'colsample_bylevel': [0.4, 0.5, 0.6, 0.7, 0.8, 0.9, 1.0], 'min_child_weight': [0.5, 1.0, 3.0, 5.0, 7.0, 10.0], 'gamma': [0, 0.25, 0.5, 1.0], 'reg_lambda': [0.1, 1.0, 5.0, 10.0, 50.0, 100.0], 'n_estimators': [100]},\n",
              "          pre_dispatch='2*n_jobs', random_state=None, refit=True,\n",
              "          return_train_score='warn', scoring='roc_auc', verbose=1)"
            ]
          },
          "metadata": {
            "tags": []
          },
          "execution_count": 22
        }
      ]
    },
    {
      "metadata": {
        "id": "XYLcRzYXeJDw",
        "colab_type": "code",
        "colab": {
          "base_uri": "https://localhost:8080/",
          "height": 221
        },
        "outputId": "4f0e8a62-ef0f-4bd6-ae43-f7b5c29a32e4"
      },
      "cell_type": "code",
      "source": [
        "best_score = randomized_clf.best_score_\n",
        "best_params = randomized_clf.best_params_\n",
        "print(\"Best score: {}\".format(best_score))\n",
        "print(\"Best params: \")\n",
        "for param_name in sorted(best_params.keys()):\n",
        "    print('%s: %r' % (param_name, best_params[param_name]))"
      ],
      "execution_count": 23,
      "outputs": [
        {
          "output_type": "stream",
          "text": [
            "Best score: 0.8275207395113745\n",
            "Best params: \n",
            "colsample_bylevel: 0.6\n",
            "colsample_bytree: 1.0\n",
            "gamma: 0.25\n",
            "learning_rate: 0.2\n",
            "max_depth: 20\n",
            "min_child_weight: 0.5\n",
            "n_estimators: 100\n",
            "reg_lambda: 50.0\n",
            "silent: False\n",
            "subsample: 0.9\n"
          ],
          "name": "stdout"
        }
      ]
    },
    {
      "metadata": {
        "id": "pZ11fIh0fBQK",
        "colab_type": "code",
        "colab": {}
      },
      "cell_type": "code",
      "source": [
        "X_train, X_test, y_train, y_test = train_test_split(X, y, test_size=0.25)"
      ],
      "execution_count": 0,
      "outputs": []
    },
    {
      "metadata": {
        "id": "VvJwGj8tiped",
        "colab_type": "code",
        "colab": {}
      },
      "cell_type": "code",
      "source": [
        "bestXGbFitted = randomized_clf.best_estimator_.fit(X_train, y_train)"
      ],
      "execution_count": 0,
      "outputs": []
    },
    {
      "metadata": {
        "id": "lFqTDM2Ui7Y3",
        "colab_type": "code",
        "colab": {
          "base_uri": "https://localhost:8080/",
          "height": 34
        },
        "outputId": "f2ed97c8-73ec-4134-e979-0d0995401f8d"
      },
      "cell_type": "code",
      "source": [
        "test_labels=bestXGbFitted.predict_proba(X_test)[:,1]\n",
        "roc_auc_score(y_test,test_labels , average='macro', sample_weight=None)"
      ],
      "execution_count": 29,
      "outputs": [
        {
          "output_type": "execute_result",
          "data": {
            "text/plain": [
              "0.8268275922243876"
            ]
          },
          "metadata": {
            "tags": []
          },
          "execution_count": 29
        }
      ]
    },
    {
      "metadata": {
        "id": "7rJJQ6XdjWMJ",
        "colab_type": "code",
        "colab": {
          "base_uri": "https://localhost:8080/",
          "height": 88
        },
        "outputId": "b555dd18-ee76-4929-c95b-db9cf957d3c4"
      },
      "cell_type": "code",
      "source": [
        "bestXGbFitted.score(X_test, y_test)"
      ],
      "execution_count": 30,
      "outputs": [
        {
          "output_type": "stream",
          "text": [
            "/usr/local/lib/python3.6/dist-packages/sklearn/preprocessing/label.py:151: DeprecationWarning: The truth value of an empty array is ambiguous. Returning False, but in future this will result in an error. Use `array.size > 0` to check that an array is not empty.\n",
            "  if diff:\n"
          ],
          "name": "stderr"
        },
        {
          "output_type": "execute_result",
          "data": {
            "text/plain": [
              "0.8054"
            ]
          },
          "metadata": {
            "tags": []
          },
          "execution_count": 30
        }
      ]
    },
    {
      "metadata": {
        "id": "OfcS4y17jj5Y",
        "colab_type": "code",
        "colab": {}
      },
      "cell_type": "code",
      "source": [
        "from sklearn.preprocessing import FunctionTransformer\n",
        "\n",
        "transformer = FunctionTransformer(np.log1p)\n",
        "X_train_1 = np.array(X_train)\n",
        "X_train_transform = transformer.transform(X_train_1)\n",
        "X_test_1 = np.array(X_test)\n",
        "X_test_transform = transformer.transform(X_test_1)"
      ],
      "execution_count": 0,
      "outputs": []
    },
    {
      "metadata": {
        "id": "bBS5dMQwj24N",
        "colab_type": "code",
        "colab": {}
      },
      "cell_type": "code",
      "source": [
        "bestXGbFitted_transformed = randomized_clf.best_estimator_.fit(X_train_transform, y_train)"
      ],
      "execution_count": 0,
      "outputs": []
    },
    {
      "metadata": {
        "id": "LCxZLUbBj-xp",
        "colab_type": "code",
        "colab": {
          "base_uri": "https://localhost:8080/",
          "height": 34
        },
        "outputId": "b06dc156-9d46-4138-e71a-a2ec7c027493"
      },
      "cell_type": "code",
      "source": [
        "test_labels=bestXGbFitted.predict_proba(X_test_transform)[:,1]\n",
        "roc_auc_score(y_test,test_labels , average='macro', sample_weight=None)"
      ],
      "execution_count": 60,
      "outputs": [
        {
          "output_type": "execute_result",
          "data": {
            "text/plain": [
              "0.8271959155003624"
            ]
          },
          "metadata": {
            "tags": []
          },
          "execution_count": 60
        }
      ]
    },
    {
      "metadata": {
        "id": "71xITjsvlBgm",
        "colab_type": "code",
        "colab": {}
      },
      "cell_type": "code",
      "source": [
        "#Outliers Removal"
      ],
      "execution_count": 0,
      "outputs": []
    },
    {
      "metadata": {
        "id": "a1gEvmLvoAtn",
        "colab_type": "code",
        "colab": {}
      },
      "cell_type": "code",
      "source": [
        "dataset = pd.read_csv('https://raw.githubusercontent.com/pasha00786/AmEx/master/data.csv')\n",
        "dataset.drop(['Unnamed: 0', 'application_key'], axis = 1, inplace = True)"
      ],
      "execution_count": 0,
      "outputs": []
    },
    {
      "metadata": {
        "id": "zII3Mxt3oVQe",
        "colab_type": "code",
        "colab": {
          "base_uri": "https://localhost:8080/",
          "height": 34
        },
        "outputId": "f9d877b4-fe7d-4f0a-a052-d45148284155"
      },
      "cell_type": "code",
      "source": [
        "dataset.shape"
      ],
      "execution_count": 39,
      "outputs": [
        {
          "output_type": "execute_result",
          "data": {
            "text/plain": [
              "(80000, 48)"
            ]
          },
          "metadata": {
            "tags": []
          },
          "execution_count": 39
        }
      ]
    },
    {
      "metadata": {
        "id": "PTJ3YVSAoyvz",
        "colab_type": "code",
        "colab": {
          "base_uri": "https://localhost:8080/",
          "height": 850
        },
        "outputId": "3333ade2-d44d-4ab4-9226-cb2f4dfb2cb6"
      },
      "cell_type": "code",
      "source": [
        "Q1 = dataset.quantile(0.25)\n",
        "Q3 = dataset.quantile(0.75)\n",
        "IQR = Q3 - Q1\n",
        "print(IQR)\n",
        "\n",
        "dataset_out = dataset[~((dataset < (Q1 - 1.5 * IQR)) |(dataset > (Q3 + 1.5 * IQR))).any(axis=1)]"
      ],
      "execution_count": 40,
      "outputs": [
        {
          "output_type": "stream",
          "text": [
            "mvar1            123.000000\n",
            "mvar2              1.198300\n",
            "mvar3              6.373000\n",
            "mvar4              0.000000\n",
            "mvar5              0.000000\n",
            "mvar6            698.000000\n",
            "mvar7          14247.250000\n",
            "mvar8           5353.000000\n",
            "mvar9          31594.500000\n",
            "mvar10         32605.250000\n",
            "mvar11             0.000000\n",
            "mvar12          5861.000000\n",
            "mvar13         11545.500000\n",
            "mvar14         81262.000000\n",
            "mvar15         71868.250000\n",
            "mvar16             0.000000\n",
            "mvar17             0.000000\n",
            "mvar18             0.000000\n",
            "mvar19             1.000000\n",
            "mvar20             1.000000\n",
            "mvar21            36.912500\n",
            "mvar22          2996.335000\n",
            "mvar23             0.000000\n",
            "mvar24            47.255000\n",
            "mvar25          1339.000000\n",
            "mvar26          2950.000000\n",
            "mvar27          2586.000000\n",
            "mvar28         30356.000000\n",
            "mvar29          3954.000000\n",
            "mvar30           426.000000\n",
            "mvar31             0.000000\n",
            "mvar32           502.000000\n",
            "mvar33             9.250000\n",
            "mvar34             0.000000\n",
            "mvar35             0.000000\n",
            "mvar36             5.000000\n",
            "mvar37             5.000000\n",
            "mvar38             4.000000\n",
            "mvar39             0.000000\n",
            "mvar40             0.000000\n",
            "mvar41             0.000000\n",
            "mvar42             0.555560\n",
            "mvar43             8.000000\n",
            "mvar44             0.388508\n",
            "mvar45             0.000000\n",
            "mvar46             0.000000\n",
            "mvar47             1.000000\n",
            "default_ind        0.000000\n",
            "dtype: float64\n"
          ],
          "name": "stdout"
        }
      ]
    },
    {
      "metadata": {
        "id": "UwjcIyDcpGHk",
        "colab_type": "code",
        "colab": {
          "base_uri": "https://localhost:8080/",
          "height": 34
        },
        "outputId": "d4ff845a-99fb-47fb-d4e1-cfd1ff0a01df"
      },
      "cell_type": "code",
      "source": [
        "dataset_out.shape"
      ],
      "execution_count": 41,
      "outputs": [
        {
          "output_type": "execute_result",
          "data": {
            "text/plain": [
              "(1470, 48)"
            ]
          },
          "metadata": {
            "tags": []
          },
          "execution_count": 41
        }
      ]
    },
    {
      "metadata": {
        "id": "np6VN893pMKG",
        "colab_type": "code",
        "colab": {}
      },
      "cell_type": "code",
      "source": [
        "X_out = dataset_out.drop('default_ind', axis = 1)\n",
        "y_out = dataset_out['default_ind']"
      ],
      "execution_count": 0,
      "outputs": []
    },
    {
      "metadata": {
        "id": "K-ygNl7ipj7N",
        "colab_type": "code",
        "colab": {}
      },
      "cell_type": "code",
      "source": [
        "X_out_train, X_out_test, y_out_train, y_out_test = train_test_split(X_out, y_out, test_size=0.25)"
      ],
      "execution_count": 0,
      "outputs": []
    },
    {
      "metadata": {
        "id": "ugHG2N8Lqe9q",
        "colab_type": "code",
        "colab": {}
      },
      "cell_type": "code",
      "source": [
        "bestXGbFitted = randomized_clf.best_estimator_.fit(X_out_train, y_out_train)"
      ],
      "execution_count": 0,
      "outputs": []
    },
    {
      "metadata": {
        "id": "jbMRaqA-rYiD",
        "colab_type": "code",
        "colab": {
          "base_uri": "https://localhost:8080/",
          "height": 88
        },
        "outputId": "c370d53e-21f8-40ae-9529-850a2268bd86"
      },
      "cell_type": "code",
      "source": [
        "bestXGbFitted.score(X_out_test, y_out_test)"
      ],
      "execution_count": 55,
      "outputs": [
        {
          "output_type": "stream",
          "text": [
            "/usr/local/lib/python3.6/dist-packages/sklearn/preprocessing/label.py:151: DeprecationWarning: The truth value of an empty array is ambiguous. Returning False, but in future this will result in an error. Use `array.size > 0` to check that an array is not empty.\n",
            "  if diff:\n"
          ],
          "name": "stderr"
        },
        {
          "output_type": "execute_result",
          "data": {
            "text/plain": [
              "1.0"
            ]
          },
          "metadata": {
            "tags": []
          },
          "execution_count": 55
        }
      ]
    },
    {
      "metadata": {
        "id": "g7VxkSeNrq_p",
        "colab_type": "code",
        "colab": {}
      },
      "cell_type": "code",
      "source": [
        "cv_results = xgb.cv(dtrain=churn_dmatrix, params=params, nfold=3, num_boost_round=5, metrics=\"error\", as_pandas=True, seed=123)"
      ],
      "execution_count": 0,
      "outputs": []
    },
    {
      "metadata": {
        "id": "4uy-CM5LsTnP",
        "colab_type": "code",
        "colab": {
          "base_uri": "https://localhost:8080/",
          "height": 253
        },
        "outputId": "5e379631-1054-4bdd-843d-2c18d829aa91"
      },
      "cell_type": "code",
      "source": [
        "X_out.head()"
      ],
      "execution_count": 56,
      "outputs": [
        {
          "output_type": "execute_result",
          "data": {
            "text/html": [
              "<div>\n",
              "<style scoped>\n",
              "    .dataframe tbody tr th:only-of-type {\n",
              "        vertical-align: middle;\n",
              "    }\n",
              "\n",
              "    .dataframe tbody tr th {\n",
              "        vertical-align: top;\n",
              "    }\n",
              "\n",
              "    .dataframe thead th {\n",
              "        text-align: right;\n",
              "    }\n",
              "</style>\n",
              "<table border=\"1\" class=\"dataframe\">\n",
              "  <thead>\n",
              "    <tr style=\"text-align: right;\">\n",
              "      <th></th>\n",
              "      <th>mvar1</th>\n",
              "      <th>mvar2</th>\n",
              "      <th>mvar3</th>\n",
              "      <th>mvar4</th>\n",
              "      <th>mvar5</th>\n",
              "      <th>mvar6</th>\n",
              "      <th>mvar7</th>\n",
              "      <th>mvar8</th>\n",
              "      <th>mvar9</th>\n",
              "      <th>mvar10</th>\n",
              "      <th>...</th>\n",
              "      <th>mvar38</th>\n",
              "      <th>mvar39</th>\n",
              "      <th>mvar40</th>\n",
              "      <th>mvar41</th>\n",
              "      <th>mvar42</th>\n",
              "      <th>mvar43</th>\n",
              "      <th>mvar44</th>\n",
              "      <th>mvar45</th>\n",
              "      <th>mvar46</th>\n",
              "      <th>mvar47</th>\n",
              "    </tr>\n",
              "  </thead>\n",
              "  <tbody>\n",
              "    <tr>\n",
              "      <th>32</th>\n",
              "      <td>1837.0</td>\n",
              "      <td>0.0234</td>\n",
              "      <td>0.000</td>\n",
              "      <td>0.0</td>\n",
              "      <td>0.0</td>\n",
              "      <td>297.0</td>\n",
              "      <td>700.0</td>\n",
              "      <td>2478.0</td>\n",
              "      <td>8275.0</td>\n",
              "      <td>6745.0</td>\n",
              "      <td>...</td>\n",
              "      <td>0.0</td>\n",
              "      <td>0.0</td>\n",
              "      <td>100.0</td>\n",
              "      <td>78.8835</td>\n",
              "      <td>0.000</td>\n",
              "      <td>5.0</td>\n",
              "      <td>1.00000</td>\n",
              "      <td>0.0</td>\n",
              "      <td>0.0</td>\n",
              "      <td>1.0</td>\n",
              "    </tr>\n",
              "    <tr>\n",
              "      <th>125</th>\n",
              "      <td>1790.0</td>\n",
              "      <td>1.5634</td>\n",
              "      <td>0.413</td>\n",
              "      <td>0.0</td>\n",
              "      <td>0.0</td>\n",
              "      <td>277.0</td>\n",
              "      <td>14224.0</td>\n",
              "      <td>1634.0</td>\n",
              "      <td>4311.0</td>\n",
              "      <td>16135.0</td>\n",
              "      <td>...</td>\n",
              "      <td>2.0</td>\n",
              "      <td>0.0</td>\n",
              "      <td>100.0</td>\n",
              "      <td>78.8835</td>\n",
              "      <td>0.125</td>\n",
              "      <td>3.0</td>\n",
              "      <td>0.87078</td>\n",
              "      <td>0.0</td>\n",
              "      <td>0.0</td>\n",
              "      <td>0.0</td>\n",
              "    </tr>\n",
              "    <tr>\n",
              "      <th>140</th>\n",
              "      <td>1888.0</td>\n",
              "      <td>0.1126</td>\n",
              "      <td>0.000</td>\n",
              "      <td>0.0</td>\n",
              "      <td>0.0</td>\n",
              "      <td>1373.0</td>\n",
              "      <td>22478.0</td>\n",
              "      <td>1373.0</td>\n",
              "      <td>38885.0</td>\n",
              "      <td>48431.0</td>\n",
              "      <td>...</td>\n",
              "      <td>0.0</td>\n",
              "      <td>0.0</td>\n",
              "      <td>100.0</td>\n",
              "      <td>78.8835</td>\n",
              "      <td>0.000</td>\n",
              "      <td>9.0</td>\n",
              "      <td>0.50591</td>\n",
              "      <td>0.0</td>\n",
              "      <td>0.0</td>\n",
              "      <td>1.0</td>\n",
              "    </tr>\n",
              "    <tr>\n",
              "      <th>210</th>\n",
              "      <td>1784.0</td>\n",
              "      <td>0.6106</td>\n",
              "      <td>0.000</td>\n",
              "      <td>0.0</td>\n",
              "      <td>0.0</td>\n",
              "      <td>1765.0</td>\n",
              "      <td>1982.0</td>\n",
              "      <td>1982.0</td>\n",
              "      <td>12895.0</td>\n",
              "      <td>3747.0</td>\n",
              "      <td>...</td>\n",
              "      <td>0.0</td>\n",
              "      <td>0.0</td>\n",
              "      <td>100.0</td>\n",
              "      <td>78.8835</td>\n",
              "      <td>0.250</td>\n",
              "      <td>0.0</td>\n",
              "      <td>1.00000</td>\n",
              "      <td>0.0</td>\n",
              "      <td>0.0</td>\n",
              "      <td>1.0</td>\n",
              "    </tr>\n",
              "    <tr>\n",
              "      <th>223</th>\n",
              "      <td>1742.0</td>\n",
              "      <td>0.0386</td>\n",
              "      <td>0.300</td>\n",
              "      <td>0.0</td>\n",
              "      <td>0.0</td>\n",
              "      <td>297.0</td>\n",
              "      <td>6967.0</td>\n",
              "      <td>2478.0</td>\n",
              "      <td>14171.0</td>\n",
              "      <td>9492.5</td>\n",
              "      <td>...</td>\n",
              "      <td>3.0</td>\n",
              "      <td>0.0</td>\n",
              "      <td>100.0</td>\n",
              "      <td>78.8835</td>\n",
              "      <td>0.200</td>\n",
              "      <td>5.0</td>\n",
              "      <td>0.73703</td>\n",
              "      <td>0.0</td>\n",
              "      <td>0.0</td>\n",
              "      <td>0.0</td>\n",
              "    </tr>\n",
              "  </tbody>\n",
              "</table>\n",
              "<p>5 rows × 47 columns</p>\n",
              "</div>"
            ],
            "text/plain": [
              "      mvar1   mvar2  mvar3  mvar4  mvar5   mvar6    mvar7   mvar8    mvar9  \\\n",
              "32   1837.0  0.0234  0.000    0.0    0.0   297.0    700.0  2478.0   8275.0   \n",
              "125  1790.0  1.5634  0.413    0.0    0.0   277.0  14224.0  1634.0   4311.0   \n",
              "140  1888.0  0.1126  0.000    0.0    0.0  1373.0  22478.0  1373.0  38885.0   \n",
              "210  1784.0  0.6106  0.000    0.0    0.0  1765.0   1982.0  1982.0  12895.0   \n",
              "223  1742.0  0.0386  0.300    0.0    0.0   297.0   6967.0  2478.0  14171.0   \n",
              "\n",
              "      mvar10   ...    mvar38  mvar39  mvar40   mvar41  mvar42  mvar43  \\\n",
              "32    6745.0   ...       0.0     0.0   100.0  78.8835   0.000     5.0   \n",
              "125  16135.0   ...       2.0     0.0   100.0  78.8835   0.125     3.0   \n",
              "140  48431.0   ...       0.0     0.0   100.0  78.8835   0.000     9.0   \n",
              "210   3747.0   ...       0.0     0.0   100.0  78.8835   0.250     0.0   \n",
              "223   9492.5   ...       3.0     0.0   100.0  78.8835   0.200     5.0   \n",
              "\n",
              "      mvar44  mvar45  mvar46  mvar47  \n",
              "32   1.00000     0.0     0.0     1.0  \n",
              "125  0.87078     0.0     0.0     0.0  \n",
              "140  0.50591     0.0     0.0     1.0  \n",
              "210  1.00000     0.0     0.0     1.0  \n",
              "223  0.73703     0.0     0.0     0.0  \n",
              "\n",
              "[5 rows x 47 columns]"
            ]
          },
          "metadata": {
            "tags": []
          },
          "execution_count": 56
        }
      ]
    },
    {
      "metadata": {
        "id": "b0eeu0mKt3GK",
        "colab_type": "code",
        "colab": {
          "base_uri": "https://localhost:8080/",
          "height": 119
        },
        "outputId": "c24ec42f-8fee-445e-d70b-43d9abd38411"
      },
      "cell_type": "code",
      "source": [
        "y_out.head()"
      ],
      "execution_count": 57,
      "outputs": [
        {
          "output_type": "execute_result",
          "data": {
            "text/plain": [
              "32     0.0\n",
              "125    0.0\n",
              "140    0.0\n",
              "210    0.0\n",
              "223    0.0\n",
              "Name: default_ind, dtype: float64"
            ]
          },
          "metadata": {
            "tags": []
          },
          "execution_count": 57
        }
      ]
    },
    {
      "metadata": {
        "id": "z5s7kXNet7tD",
        "colab_type": "code",
        "colab": {}
      },
      "cell_type": "code",
      "source": [
        ""
      ],
      "execution_count": 0,
      "outputs": []
    }
  ]
}