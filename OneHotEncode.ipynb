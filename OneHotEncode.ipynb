{
  "nbformat": 4,
  "nbformat_minor": 0,
  "metadata": {
    "colab": {
      "name": "OneHotEncode.ipynb",
      "version": "0.3.2",
      "provenance": []
    },
    "kernelspec": {
      "name": "python3",
      "display_name": "Python 3"
    },
    "accelerator": "GPU"
  },
  "cells": [
    {
      "metadata": {
        "id": "M0deABDFyWdV",
        "colab_type": "code",
        "colab": {}
      },
      "cell_type": "code",
      "source": [
        "import pandas as pd\n",
        "import numpy as np\n",
        "from sklearn.preprocessing import OneHotEncoder"
      ],
      "execution_count": 0,
      "outputs": []
    },
    {
      "metadata": {
        "id": "p60R6x4_yf5R",
        "colab_type": "code",
        "colab": {}
      },
      "cell_type": "code",
      "source": [
        "data = pd.read_csv('https://raw.githubusercontent.com/pasha00786/AmEx/master/cate_data.csv')\n",
        "data.drop(['application_key', 'Unnamed: 0'], axis = 1, inplace = True)"
      ],
      "execution_count": 0,
      "outputs": []
    },
    {
      "metadata": {
        "id": "KSNq8nOgypgU",
        "colab_type": "code",
        "colab": {}
      },
      "cell_type": "code",
      "source": [
        "X = data.drop('default_ind', axis = 1)\n",
        "y = data['default_ind']"
      ],
      "execution_count": 0,
      "outputs": []
    },
    {
      "metadata": {
        "id": "RJmbzNcLyucQ",
        "colab_type": "code",
        "colab": {
          "base_uri": "https://localhost:8080/",
          "height": 34
        },
        "outputId": "2184036a-0e15-4c56-9969-19a95b15d53b"
      },
      "cell_type": "code",
      "source": [
        "enc = OneHotEncoder()\n",
        "enc_X = enc.fit_transform(X)\n",
        "enc_X.shape"
      ],
      "execution_count": 5,
      "outputs": [
        {
          "output_type": "execute_result",
          "data": {
            "text/plain": [
              "(80000, 299)"
            ]
          },
          "metadata": {
            "tags": []
          },
          "execution_count": 5
        }
      ]
    },
    {
      "metadata": {
        "id": "drHE-S3nzT8o",
        "colab_type": "code",
        "colab": {}
      },
      "cell_type": "code",
      "source": [
        "from sklearn.ensemble import AdaBoostClassifier, GradientBoostingClassifier, RandomForestClassifier\n",
        "from sklearn.model_selection import train_test_split\n",
        "from sklearn.metrics import roc_auc_score\n",
        "from sklearn.neighbors import KNeighborsClassifier"
      ],
      "execution_count": 0,
      "outputs": []
    },
    {
      "metadata": {
        "id": "ogcTg1Vl0Q8S",
        "colab_type": "code",
        "colab": {}
      },
      "cell_type": "code",
      "source": [
        "X_train, X_test, y_train, y_test = train_test_split(enc_X, y, test_size=0.25, random_state=42)"
      ],
      "execution_count": 0,
      "outputs": []
    },
    {
      "metadata": {
        "id": "pu0Sv-sr0fRY",
        "colab_type": "code",
        "colab": {}
      },
      "cell_type": "code",
      "source": [
        "#Logistic Regression"
      ],
      "execution_count": 0,
      "outputs": []
    },
    {
      "metadata": {
        "id": "el7jqQlV0aBi",
        "colab_type": "code",
        "colab": {}
      },
      "cell_type": "code",
      "source": [
        "from sklearn.linear_model import LogisticRegression\n",
        "glmMod = LogisticRegression(penalty='l1', dual=False, tol=0.0001, C=1.0, fit_intercept=True,\n",
        "                            intercept_scaling=1, class_weight=None, \n",
        "                            random_state=None, solver='liblinear', max_iter=100,\n",
        "                            multi_class='ovr', verbose=2)"
      ],
      "execution_count": 0,
      "outputs": []
    },
    {
      "metadata": {
        "id": "o5wUcnuI0d9P",
        "colab_type": "code",
        "colab": {
          "base_uri": "https://localhost:8080/",
          "height": 34
        },
        "outputId": "67394dae-ca48-4c30-b30b-b23c06eb1419"
      },
      "cell_type": "code",
      "source": [
        "glmMod.fit(X_train, y_train)\n",
        "glmMod.score(X_test, y_test)"
      ],
      "execution_count": 9,
      "outputs": [
        {
          "output_type": "stream",
          "text": [
            "[LibLinear]"
          ],
          "name": "stdout"
        },
        {
          "output_type": "execute_result",
          "data": {
            "text/plain": [
              "0.80685"
            ]
          },
          "metadata": {
            "tags": []
          },
          "execution_count": 9
        }
      ]
    },
    {
      "metadata": {
        "id": "DBiZZhYL0omI",
        "colab_type": "code",
        "colab": {
          "base_uri": "https://localhost:8080/",
          "height": 34
        },
        "outputId": "8f1727c4-7416-475e-9f04-67d265c83ab5"
      },
      "cell_type": "code",
      "source": [
        "test_labels=glmMod.predict_proba(X_test)[:,1]\n",
        "roc_auc_score(y_test,test_labels , average='macro', sample_weight=None)"
      ],
      "execution_count": 10,
      "outputs": [
        {
          "output_type": "execute_result",
          "data": {
            "text/plain": [
              "0.8364420553410093"
            ]
          },
          "metadata": {
            "tags": []
          },
          "execution_count": 10
        }
      ]
    },
    {
      "metadata": {
        "id": "rACAsuVP08lS",
        "colab_type": "code",
        "colab": {}
      },
      "cell_type": "code",
      "source": [
        "#GradientBoosting"
      ],
      "execution_count": 0,
      "outputs": []
    },
    {
      "metadata": {
        "id": "Z8Dnw9Gd1Bzm",
        "colab_type": "code",
        "colab": {}
      },
      "cell_type": "code",
      "source": [
        "gbMod = GradientBoostingClassifier(loss='deviance', learning_rate=0.1, n_estimators=200, subsample=1.0,\n",
        "                                   min_samples_split=2, min_samples_leaf=1, min_weight_fraction_leaf=0.0, \n",
        "                                   max_depth=3,\n",
        "                                   init=None, random_state=None, max_features=None, verbose=0)"
      ],
      "execution_count": 0,
      "outputs": []
    },
    {
      "metadata": {
        "id": "AVkOyNdH1Gbq",
        "colab_type": "code",
        "colab": {
          "base_uri": "https://localhost:8080/",
          "height": 34
        },
        "outputId": "04b269b4-0832-4f8e-8cad-7157e00f4f43"
      },
      "cell_type": "code",
      "source": [
        "gbMod.fit(X_train, y_train)\n",
        "gbMod.score(X_test, y_test)"
      ],
      "execution_count": 13,
      "outputs": [
        {
          "output_type": "execute_result",
          "data": {
            "text/plain": [
              "0.8065"
            ]
          },
          "metadata": {
            "tags": []
          },
          "execution_count": 13
        }
      ]
    },
    {
      "metadata": {
        "id": "aLsO5E-c1LpP",
        "colab_type": "code",
        "colab": {
          "base_uri": "https://localhost:8080/",
          "height": 34
        },
        "outputId": "e28795f1-3873-4189-90db-e1fe7e006379"
      },
      "cell_type": "code",
      "source": [
        "test_labels=gbMod.predict_proba(X_test)[:,1]\n",
        "roc_auc_score(y_test,test_labels , average='macro', sample_weight=None)"
      ],
      "execution_count": 14,
      "outputs": [
        {
          "output_type": "execute_result",
          "data": {
            "text/plain": [
              "0.8373464485257626"
            ]
          },
          "metadata": {
            "tags": []
          },
          "execution_count": 14
        }
      ]
    },
    {
      "metadata": {
        "id": "2UNBBIu81YBR",
        "colab_type": "code",
        "colab": {}
      },
      "cell_type": "code",
      "source": [
        "#AdaBoost"
      ],
      "execution_count": 0,
      "outputs": []
    },
    {
      "metadata": {
        "id": "DhHPgfG21qUi",
        "colab_type": "code",
        "colab": {}
      },
      "cell_type": "code",
      "source": [
        "adaMod = AdaBoostClassifier(base_estimator=None, n_estimators=200, learning_rate=1.0)"
      ],
      "execution_count": 0,
      "outputs": []
    },
    {
      "metadata": {
        "id": "LebBrJZN11dG",
        "colab_type": "code",
        "colab": {
          "base_uri": "https://localhost:8080/",
          "height": 34
        },
        "outputId": "e1540b4a-e680-48d7-868c-1f86d89305fa"
      },
      "cell_type": "code",
      "source": [
        "adaMod.fit(X_train, y_train)\n",
        "adaMod.score(X_test, y_test)"
      ],
      "execution_count": 17,
      "outputs": [
        {
          "output_type": "execute_result",
          "data": {
            "text/plain": [
              "0.80505"
            ]
          },
          "metadata": {
            "tags": []
          },
          "execution_count": 17
        }
      ]
    },
    {
      "metadata": {
        "id": "RnqN25UF15Qv",
        "colab_type": "code",
        "colab": {
          "base_uri": "https://localhost:8080/",
          "height": 34
        },
        "outputId": "466eae3b-2f32-4281-acf8-1066ecd3b1fc"
      },
      "cell_type": "code",
      "source": [
        "test_labels=adaMod.predict_proba(X_test)[:,1]\n",
        "roc_auc_score(y_test,test_labels , average='macro', sample_weight=None)"
      ],
      "execution_count": 18,
      "outputs": [
        {
          "output_type": "execute_result",
          "data": {
            "text/plain": [
              "0.8355581852384645"
            ]
          },
          "metadata": {
            "tags": []
          },
          "execution_count": 18
        }
      ]
    },
    {
      "metadata": {
        "id": "zDoSnFfC2C9e",
        "colab_type": "code",
        "colab": {}
      },
      "cell_type": "code",
      "source": [
        "#RandomForest"
      ],
      "execution_count": 0,
      "outputs": []
    },
    {
      "metadata": {
        "id": "R3IbeAlU2GFr",
        "colab_type": "code",
        "colab": {}
      },
      "cell_type": "code",
      "source": [
        "rfMod = RandomForestClassifier(n_estimators=10, criterion='gini', max_depth=None, min_samples_split=2,\n",
        "                               min_samples_leaf=1, min_weight_fraction_leaf=0.0, max_features='auto',\n",
        "                               max_leaf_nodes=None, bootstrap=True, oob_score=False, n_jobs=1, \n",
        "                               random_state=None, verbose=0)"
      ],
      "execution_count": 0,
      "outputs": []
    },
    {
      "metadata": {
        "id": "D709owXX2L0k",
        "colab_type": "code",
        "colab": {
          "base_uri": "https://localhost:8080/",
          "height": 34
        },
        "outputId": "c15e7b04-c813-4a65-973b-da5f581fbf1c"
      },
      "cell_type": "code",
      "source": [
        "rfMod.fit(X_train, y_train)\n",
        "rfMod.score(X_test, y_test)"
      ],
      "execution_count": 21,
      "outputs": [
        {
          "output_type": "execute_result",
          "data": {
            "text/plain": [
              "0.78465"
            ]
          },
          "metadata": {
            "tags": []
          },
          "execution_count": 21
        }
      ]
    },
    {
      "metadata": {
        "id": "pBWGSY6P2PPU",
        "colab_type": "code",
        "colab": {
          "base_uri": "https://localhost:8080/",
          "height": 34
        },
        "outputId": "7f77096e-cc80-44fa-ac7f-767490ab3ef7"
      },
      "cell_type": "code",
      "source": [
        "test_labels=rfMod.predict_proba(X_test)[:,1]\n",
        "roc_auc_score(y_test,test_labels , average='macro', sample_weight=None)"
      ],
      "execution_count": 22,
      "outputs": [
        {
          "output_type": "execute_result",
          "data": {
            "text/plain": [
              "0.7878306441408418"
            ]
          },
          "metadata": {
            "tags": []
          },
          "execution_count": 22
        }
      ]
    },
    {
      "metadata": {
        "id": "g4G30YCE2be1",
        "colab_type": "code",
        "colab": {}
      },
      "cell_type": "code",
      "source": [
        "#HyperTuning"
      ],
      "execution_count": 0,
      "outputs": []
    },
    {
      "metadata": {
        "id": "GuWHMHL851oM",
        "colab_type": "code",
        "colab": {}
      },
      "cell_type": "code",
      "source": [
        "from sklearn.model_selection import RandomizedSearchCV\n",
        "from scipy.stats import randint"
      ],
      "execution_count": 0,
      "outputs": []
    },
    {
      "metadata": {
        "id": "ZpZTwlmE2lkG",
        "colab_type": "code",
        "colab": {}
      },
      "cell_type": "code",
      "source": [
        "gbHyperParams = {'loss' : ['deviance', 'exponential'],\n",
        "                 'n_estimators': randint(10, 500),\n",
        "                 'max_depth': randint(1,10)}"
      ],
      "execution_count": 0,
      "outputs": []
    },
    {
      "metadata": {
        "id": "unnG0ftV2mGt",
        "colab_type": "code",
        "colab": {
          "base_uri": "https://localhost:8080/",
          "height": 578
        },
        "outputId": "9ed04075-5a60-4f59-aa78-db2079046807"
      },
      "cell_type": "code",
      "source": [
        "gridSearchGB = RandomizedSearchCV(estimator=gbMod, param_distributions=gbHyperParams, n_iter=5,\n",
        "                                   scoring='roc_auc', fit_params=None, cv=3, verbose=2).fit(X_train, y_train)"
      ],
      "execution_count": 13,
      "outputs": [
        {
          "output_type": "stream",
          "text": [
            "Fitting 3 folds for each of 5 candidates, totalling 15 fits\n",
            "[CV] loss=deviance, max_depth=7, n_estimators=113 ....................\n",
            "[CV] ..... loss=deviance, max_depth=7, n_estimators=113, total= 1.3min\n",
            "[CV] loss=deviance, max_depth=7, n_estimators=113 ....................\n"
          ],
          "name": "stdout"
        },
        {
          "output_type": "stream",
          "text": [
            "[Parallel(n_jobs=1)]: Done   1 out of   1 | elapsed:  1.3min remaining:    0.0s\n"
          ],
          "name": "stderr"
        },
        {
          "output_type": "stream",
          "text": [
            "[CV] ..... loss=deviance, max_depth=7, n_estimators=113, total= 1.3min\n",
            "[CV] loss=deviance, max_depth=7, n_estimators=113 ....................\n",
            "[CV] ..... loss=deviance, max_depth=7, n_estimators=113, total= 1.3min\n",
            "[CV] loss=exponential, max_depth=1, n_estimators=405 .................\n",
            "[CV] .. loss=exponential, max_depth=1, n_estimators=405, total=  19.1s\n",
            "[CV] loss=exponential, max_depth=1, n_estimators=405 .................\n",
            "[CV] .. loss=exponential, max_depth=1, n_estimators=405, total=  19.1s\n",
            "[CV] loss=exponential, max_depth=1, n_estimators=405 .................\n",
            "[CV] .. loss=exponential, max_depth=1, n_estimators=405, total=  19.0s\n",
            "[CV] loss=exponential, max_depth=6, n_estimators=180 .................\n",
            "[CV] .. loss=exponential, max_depth=6, n_estimators=180, total= 1.4min\n",
            "[CV] loss=exponential, max_depth=6, n_estimators=180 .................\n",
            "[CV] .. loss=exponential, max_depth=6, n_estimators=180, total= 1.4min\n",
            "[CV] loss=exponential, max_depth=6, n_estimators=180 .................\n",
            "[CV] .. loss=exponential, max_depth=6, n_estimators=180, total= 1.4min\n",
            "[CV] loss=deviance, max_depth=9, n_estimators=42 .....................\n",
            "[CV] ...... loss=deviance, max_depth=9, n_estimators=42, total= 1.1min\n",
            "[CV] loss=deviance, max_depth=9, n_estimators=42 .....................\n",
            "[CV] ...... loss=deviance, max_depth=9, n_estimators=42, total= 1.1min\n",
            "[CV] loss=deviance, max_depth=9, n_estimators=42 .....................\n",
            "[CV] ...... loss=deviance, max_depth=9, n_estimators=42, total= 1.1min\n",
            "[CV] loss=deviance, max_depth=9, n_estimators=97 .....................\n",
            "[CV] ...... loss=deviance, max_depth=9, n_estimators=97, total= 2.2min\n",
            "[CV] loss=deviance, max_depth=9, n_estimators=97 .....................\n",
            "[CV] ...... loss=deviance, max_depth=9, n_estimators=97, total= 2.2min\n",
            "[CV] loss=deviance, max_depth=9, n_estimators=97 .....................\n",
            "[CV] ...... loss=deviance, max_depth=9, n_estimators=97, total= 2.2min\n"
          ],
          "name": "stdout"
        },
        {
          "output_type": "stream",
          "text": [
            "[Parallel(n_jobs=1)]: Done  15 out of  15 | elapsed: 19.0min finished\n"
          ],
          "name": "stderr"
        }
      ]
    },
    {
      "metadata": {
        "id": "N2hS510G2rXu",
        "colab_type": "code",
        "colab": {
          "base_uri": "https://localhost:8080/",
          "height": 51
        },
        "outputId": "c2526522-598a-4a63-d481-8d560bc7091a"
      },
      "cell_type": "code",
      "source": [
        "gridSearchGB.best_params_, gridSearchGB.best_score_"
      ],
      "execution_count": 14,
      "outputs": [
        {
          "output_type": "execute_result",
          "data": {
            "text/plain": [
              "({'loss': 'exponential', 'max_depth': 1, 'n_estimators': 405},\n",
              " 0.8274550536335845)"
            ]
          },
          "metadata": {
            "tags": []
          },
          "execution_count": 14
        }
      ]
    },
    {
      "metadata": {
        "id": "qAoZzgK4-l8l",
        "colab_type": "code",
        "colab": {}
      },
      "cell_type": "code",
      "source": [
        "bestGbModFitted = gridSearchGB.best_estimator_.fit(X_train, y_train)"
      ],
      "execution_count": 0,
      "outputs": []
    },
    {
      "metadata": {
        "id": "cYf17UGA-8It",
        "colab_type": "code",
        "colab": {
          "base_uri": "https://localhost:8080/",
          "height": 34
        },
        "outputId": "e6f885a7-bc1c-4f53-c761-e78312a1b773"
      },
      "cell_type": "code",
      "source": [
        "test_labels=bestGbModFitted.predict_proba(X_test)[:,1]\n",
        "roc_auc_score(y_test,test_labels , average='macro', sample_weight=None)"
      ],
      "execution_count": 16,
      "outputs": [
        {
          "output_type": "execute_result",
          "data": {
            "text/plain": [
              "0.834110609128156"
            ]
          },
          "metadata": {
            "tags": []
          },
          "execution_count": 16
        }
      ]
    },
    {
      "metadata": {
        "id": "scx8EEyo_HXf",
        "colab_type": "code",
        "colab": {}
      },
      "cell_type": "code",
      "source": [
        "from sklearn.ensemble import VotingClassifier\n",
        "votingMod = VotingClassifier(estimators=[('gb', bestGbModFitted), \n",
        "                                         ('ada', adaMod)], voting='soft',weights=[2,1])\n",
        "votingMod = votingMod.fit(X_train, y_train)"
      ],
      "execution_count": 0,
      "outputs": []
    },
    {
      "metadata": {
        "id": "1dSpcEIR_vpP",
        "colab_type": "code",
        "colab": {
          "base_uri": "https://localhost:8080/",
          "height": 88
        },
        "outputId": "e08fd406-6f84-47c9-9436-11dbc7992dc5"
      },
      "cell_type": "code",
      "source": [
        "votingMod.score(X_train, y_train)"
      ],
      "execution_count": 21,
      "outputs": [
        {
          "output_type": "stream",
          "text": [
            "/usr/local/lib/python3.6/dist-packages/sklearn/preprocessing/label.py:151: DeprecationWarning: The truth value of an empty array is ambiguous. Returning False, but in future this will result in an error. Use `array.size > 0` to check that an array is not empty.\n",
            "  if diff:\n"
          ],
          "name": "stderr"
        },
        {
          "output_type": "execute_result",
          "data": {
            "text/plain": [
              "0.8003166666666667"
            ]
          },
          "metadata": {
            "tags": []
          },
          "execution_count": 21
        }
      ]
    },
    {
      "metadata": {
        "id": "u80hK7boAK_S",
        "colab_type": "code",
        "colab": {
          "base_uri": "https://localhost:8080/",
          "height": 34
        },
        "outputId": "add9b7b7-8855-4389-d376-54b6f4b04ac9"
      },
      "cell_type": "code",
      "source": [
        "test_labels=votingMod.predict_proba(X_test)[:,1]\n",
        "roc_auc_score(y_test,test_labels , average='macro', sample_weight=None)"
      ],
      "execution_count": 22,
      "outputs": [
        {
          "output_type": "execute_result",
          "data": {
            "text/plain": [
              "0.8341365020490783"
            ]
          },
          "metadata": {
            "tags": []
          },
          "execution_count": 22
        }
      ]
    },
    {
      "metadata": {
        "id": "FLaqpkOMASx3",
        "colab_type": "code",
        "colab": {
          "base_uri": "https://localhost:8080/",
          "height": 51
        },
        "outputId": "9456e01e-b88b-4c41-868b-738094010b38"
      },
      "cell_type": "code",
      "source": [
        "test_labels"
      ],
      "execution_count": 23,
      "outputs": [
        {
          "output_type": "execute_result",
          "data": {
            "text/plain": [
              "array([0.16797415, 0.41578175, 0.18660271, ..., 0.2025538 , 0.19329769,\n",
              "       0.34536585])"
            ]
          },
          "metadata": {
            "tags": []
          },
          "execution_count": 23
        }
      ]
    },
    {
      "metadata": {
        "id": "gwShcKiQBkMu",
        "colab_type": "code",
        "colab": {}
      },
      "cell_type": "code",
      "source": [
        ""
      ],
      "execution_count": 0,
      "outputs": []
    }
  ]
}