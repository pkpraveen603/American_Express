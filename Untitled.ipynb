{
 "cells": [
  {
   "cell_type": "code",
   "execution_count": 36,
   "metadata": {},
   "outputs": [],
   "source": [
    "import pandas as pd\n",
    "import numpy as np\n",
    "import matplotlib.pyplot as plt\n",
    "from tqdm import tqdm"
   ]
  },
  {
   "cell_type": "code",
   "execution_count": 2,
   "metadata": {},
   "outputs": [
    {
     "data": {
      "text/plain": [
       "(49, 2)"
      ]
     },
     "execution_count": 2,
     "metadata": {},
     "output_type": "execute_result"
    }
   ],
   "source": [
    "df = pd.read_csv('Data_Dictionary.csv')\n",
    "df.shape"
   ]
  },
  {
   "cell_type": "code",
   "execution_count": 3,
   "metadata": {},
   "outputs": [
    {
     "name": "stderr",
     "output_type": "stream",
     "text": [
      "/home/ashutosh/anaconda3/lib/python3.6/site-packages/IPython/core/interactiveshell.py:2785: DtypeWarning: Columns (19) have mixed types. Specify dtype option on import or set low_memory=False.\n",
      "  interactivity=interactivity, compiler=compiler, result=result)\n"
     ]
    },
    {
     "data": {
      "text/html": [
       "<div>\n",
       "<style scoped>\n",
       "    .dataframe tbody tr th:only-of-type {\n",
       "        vertical-align: middle;\n",
       "    }\n",
       "\n",
       "    .dataframe tbody tr th {\n",
       "        vertical-align: top;\n",
       "    }\n",
       "\n",
       "    .dataframe thead th {\n",
       "        text-align: right;\n",
       "    }\n",
       "</style>\n",
       "<table border=\"1\" class=\"dataframe\">\n",
       "  <thead>\n",
       "    <tr style=\"text-align: right;\">\n",
       "      <th></th>\n",
       "      <th>application_key</th>\n",
       "      <th>mvar1</th>\n",
       "      <th>mvar2</th>\n",
       "      <th>mvar3</th>\n",
       "      <th>mvar4</th>\n",
       "      <th>mvar5</th>\n",
       "      <th>mvar6</th>\n",
       "      <th>mvar7</th>\n",
       "      <th>mvar8</th>\n",
       "      <th>mvar9</th>\n",
       "      <th>...</th>\n",
       "      <th>mvar39</th>\n",
       "      <th>mvar40</th>\n",
       "      <th>mvar41</th>\n",
       "      <th>mvar42</th>\n",
       "      <th>mvar43</th>\n",
       "      <th>mvar44</th>\n",
       "      <th>mvar45</th>\n",
       "      <th>mvar46</th>\n",
       "      <th>mvar47</th>\n",
       "      <th>default_ind</th>\n",
       "    </tr>\n",
       "  </thead>\n",
       "  <tbody>\n",
       "    <tr>\n",
       "      <th>0</th>\n",
       "      <td>230032</td>\n",
       "      <td>1696</td>\n",
       "      <td>1.6541</td>\n",
       "      <td>0.000</td>\n",
       "      <td>0.0</td>\n",
       "      <td>0.0</td>\n",
       "      <td>0</td>\n",
       "      <td>6015</td>\n",
       "      <td>322</td>\n",
       "      <td>40369</td>\n",
       "      <td>...</td>\n",
       "      <td>1</td>\n",
       "      <td>73.78</td>\n",
       "      <td>82.547</td>\n",
       "      <td>0.08696</td>\n",
       "      <td>10</td>\n",
       "      <td>0.63899</td>\n",
       "      <td>na</td>\n",
       "      <td>0</td>\n",
       "      <td>C</td>\n",
       "      <td>0</td>\n",
       "    </tr>\n",
       "    <tr>\n",
       "      <th>1</th>\n",
       "      <td>230033</td>\n",
       "      <td>1846</td>\n",
       "      <td>0.8095</td>\n",
       "      <td>0.000</td>\n",
       "      <td>0.0</td>\n",
       "      <td>0.0</td>\n",
       "      <td>102</td>\n",
       "      <td>7532</td>\n",
       "      <td>3171</td>\n",
       "      <td>18234</td>\n",
       "      <td>...</td>\n",
       "      <td>0</td>\n",
       "      <td>99.129</td>\n",
       "      <td>missing</td>\n",
       "      <td>0</td>\n",
       "      <td>13</td>\n",
       "      <td>0.63836</td>\n",
       "      <td>na</td>\n",
       "      <td>na</td>\n",
       "      <td>L</td>\n",
       "      <td>1</td>\n",
       "    </tr>\n",
       "    <tr>\n",
       "      <th>2</th>\n",
       "      <td>230034</td>\n",
       "      <td>1745</td>\n",
       "      <td>0.4001</td>\n",
       "      <td>0.000</td>\n",
       "      <td>0.0</td>\n",
       "      <td>0.0</td>\n",
       "      <td>missing</td>\n",
       "      <td>2536</td>\n",
       "      <td>missing</td>\n",
       "      <td>missing</td>\n",
       "      <td>...</td>\n",
       "      <td>0</td>\n",
       "      <td>missing</td>\n",
       "      <td>29.29</td>\n",
       "      <td>0</td>\n",
       "      <td>1</td>\n",
       "      <td>1.00000</td>\n",
       "      <td>na</td>\n",
       "      <td>0</td>\n",
       "      <td>C</td>\n",
       "      <td>1</td>\n",
       "    </tr>\n",
       "    <tr>\n",
       "      <th>3</th>\n",
       "      <td>230035</td>\n",
       "      <td>1739</td>\n",
       "      <td>0.2193</td>\n",
       "      <td>0.000</td>\n",
       "      <td>0.0</td>\n",
       "      <td>0.0</td>\n",
       "      <td>1982</td>\n",
       "      <td>26440</td>\n",
       "      <td>4955</td>\n",
       "      <td>20316</td>\n",
       "      <td>...</td>\n",
       "      <td>0</td>\n",
       "      <td>96.272</td>\n",
       "      <td>missing</td>\n",
       "      <td>0.15385</td>\n",
       "      <td>3</td>\n",
       "      <td>0.53241</td>\n",
       "      <td>0</td>\n",
       "      <td>0</td>\n",
       "      <td>L</td>\n",
       "      <td>0</td>\n",
       "    </tr>\n",
       "    <tr>\n",
       "      <th>4</th>\n",
       "      <td>230036</td>\n",
       "      <td>1787</td>\n",
       "      <td>0.0118</td>\n",
       "      <td>0.225</td>\n",
       "      <td>0.0</td>\n",
       "      <td>0.0</td>\n",
       "      <td>5451</td>\n",
       "      <td>5494</td>\n",
       "      <td>5494</td>\n",
       "      <td>7987</td>\n",
       "      <td>...</td>\n",
       "      <td>0</td>\n",
       "      <td>115.019</td>\n",
       "      <td>missing</td>\n",
       "      <td>0</td>\n",
       "      <td>1</td>\n",
       "      <td>0.92665</td>\n",
       "      <td>na</td>\n",
       "      <td>na</td>\n",
       "      <td>L</td>\n",
       "      <td>0</td>\n",
       "    </tr>\n",
       "  </tbody>\n",
       "</table>\n",
       "<p>5 rows × 49 columns</p>\n",
       "</div>"
      ],
      "text/plain": [
       "   application_key mvar1   mvar2  mvar3  mvar4  mvar5    mvar6  mvar7  \\\n",
       "0           230032  1696  1.6541  0.000    0.0    0.0        0   6015   \n",
       "1           230033  1846  0.8095  0.000    0.0    0.0      102   7532   \n",
       "2           230034  1745  0.4001  0.000    0.0    0.0  missing   2536   \n",
       "3           230035  1739  0.2193  0.000    0.0    0.0     1982  26440   \n",
       "4           230036  1787  0.0118  0.225    0.0    0.0     5451   5494   \n",
       "\n",
       "     mvar8    mvar9     ...     mvar39   mvar40   mvar41   mvar42  mvar43  \\\n",
       "0      322    40369     ...          1    73.78   82.547  0.08696      10   \n",
       "1     3171    18234     ...          0   99.129  missing        0      13   \n",
       "2  missing  missing     ...          0  missing    29.29        0       1   \n",
       "3     4955    20316     ...          0   96.272  missing  0.15385       3   \n",
       "4     5494     7987     ...          0  115.019  missing        0       1   \n",
       "\n",
       "    mvar44 mvar45 mvar46 mvar47 default_ind  \n",
       "0  0.63899     na      0      C           0  \n",
       "1  0.63836     na     na      L           1  \n",
       "2  1.00000     na      0      C           1  \n",
       "3  0.53241      0      0      L           0  \n",
       "4  0.92665     na     na      L           0  \n",
       "\n",
       "[5 rows x 49 columns]"
      ]
     },
     "execution_count": 3,
     "metadata": {},
     "output_type": "execute_result"
    }
   ],
   "source": [
    "data = pd.read_csv('Training_dataset_Original.csv')\n",
    "data.head()"
   ]
  },
  {
   "cell_type": "code",
   "execution_count": 4,
   "metadata": {},
   "outputs": [],
   "source": [
    "test = data.apply(pd.to_numeric, errors = 'coerce')"
   ]
  },
  {
   "cell_type": "code",
   "execution_count": 5,
   "metadata": {},
   "outputs": [],
   "source": [
    "test.drop(['application_key','mvar47'], axis = 1, inplace = True)"
   ]
  },
  {
   "cell_type": "code",
   "execution_count": 6,
   "metadata": {},
   "outputs": [
    {
     "data": {
      "text/plain": [
       "Index(['mvar1', 'mvar2', 'mvar3', 'mvar4', 'mvar5', 'mvar6', 'mvar7', 'mvar8',\n",
       "       'mvar9', 'mvar10', 'mvar11', 'mvar12', 'mvar13', 'mvar14', 'mvar15',\n",
       "       'mvar16', 'mvar17', 'mvar18', 'mvar19', 'mvar20', 'mvar21', 'mvar22',\n",
       "       'mvar23', 'mvar24', 'mvar25', 'mvar26', 'mvar27', 'mvar28', 'mvar29',\n",
       "       'mvar30', 'mvar31', 'mvar32', 'mvar33', 'mvar34', 'mvar35', 'mvar36',\n",
       "       'mvar37', 'mvar38', 'mvar39', 'mvar40', 'mvar41', 'mvar42', 'mvar43',\n",
       "       'mvar44', 'mvar45', 'mvar46', 'default_ind'],\n",
       "      dtype='object')"
      ]
     },
     "execution_count": 6,
     "metadata": {},
     "output_type": "execute_result"
    }
   ],
   "source": [
    "columns = test.columns\n",
    "\n",
    "columns"
   ]
  },
  {
   "cell_type": "code",
   "execution_count": null,
   "metadata": {},
   "outputs": [
    {
     "name": "stderr",
     "output_type": "stream",
     "text": [
      " 43%|████▎     | 20/46 [00:20<00:25,  1.02it/s]/home/ashutosh/anaconda3/lib/python3.6/site-packages/matplotlib/pyplot.py:537: RuntimeWarning: More than 20 figures have been opened. Figures created through the pyplot interface (`matplotlib.pyplot.figure`) are retained until explicitly closed and may consume too much memory. (To control this warning, see the rcParam `figure.max_open_warning`).\n",
      "  max_open_warning, RuntimeWarning)\n",
      "100%|██████████| 46/46 [01:47<00:00,  7.19s/it]\n"
     ]
    }
   ],
   "source": [
    "for i in tqdm(range(len(columns))):\n",
    "    name = columns[i] + '.png'\n",
    "    fig = plt.figure(figsize=(20,20))\n",
    "    plt.subplot(2,1,1)\n",
    "    plt.plot(test[columns[i]].dropna())\n",
    "    plt.xlabel(labels[i], fontsize=18)\n",
    "    plt.subplot(2,1,2)\n",
    "    plt.boxplot(test[columns[i]].dropna())\n",
    "    plt.xlabel(labels[i], fontsize=18)\n",
    "    fig.savefig(name)"
   ]
  },
  {
   "cell_type": "code",
   "execution_count": 9,
   "metadata": {},
   "outputs": [],
   "source": [
    "label = pd.read_csv('Data_Dictionary.csv')"
   ]
  },
  {
   "cell_type": "code",
   "execution_count": 10,
   "metadata": {},
   "outputs": [],
   "source": [
    "label = label['Definition'].values"
   ]
  },
  {
   "cell_type": "code",
   "execution_count": 11,
   "metadata": {},
   "outputs": [],
   "source": [
    "labels = list(label)"
   ]
  },
  {
   "cell_type": "code",
   "execution_count": 12,
   "metadata": {},
   "outputs": [],
   "source": [
    "columns = list(columns)"
   ]
  },
  {
   "cell_type": "code",
   "execution_count": 29,
   "metadata": {},
   "outputs": [
    {
     "data": {
      "text/plain": [
       "46"
      ]
     },
     "execution_count": 29,
     "metadata": {},
     "output_type": "execute_result"
    }
   ],
   "source": [
    "len(columns)"
   ]
  },
  {
   "cell_type": "code",
   "execution_count": 28,
   "metadata": {},
   "outputs": [
    {
     "data": {
      "text/plain": [
       "46"
      ]
     },
     "execution_count": 28,
     "metadata": {},
     "output_type": "execute_result"
    }
   ],
   "source": [
    "len(labels)"
   ]
  },
  {
   "cell_type": "code",
   "execution_count": null,
   "metadata": {},
   "outputs": [],
   "source": []
  }
 ],
 "metadata": {
  "kernelspec": {
   "display_name": "Python 3",
   "language": "python",
   "name": "python3"
  },
  "language_info": {
   "codemirror_mode": {
    "name": "ipython",
    "version": 3
   },
   "file_extension": ".py",
   "mimetype": "text/x-python",
   "name": "python",
   "nbconvert_exporter": "python",
   "pygments_lexer": "ipython3",
   "version": "3.6.5"
  }
 },
 "nbformat": 4,
 "nbformat_minor": 2
}
