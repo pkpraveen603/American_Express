{
  "nbformat": 4,
  "nbformat_minor": 0,
  "metadata": {
    "colab": {
      "name": "amex_pca.ipynb",
      "version": "0.3.2",
      "provenance": []
    },
    "kernelspec": {
      "display_name": "Python 3",
      "language": "python",
      "name": "python3"
    },
    "accelerator": "GPU"
  },
  "cells": [
    {
      "metadata": {
        "id": "ruLGhL-N-oJ4",
        "colab_type": "code",
        "colab": {}
      },
      "cell_type": "code",
      "source": [
        "import pandas as pd\n",
        "import numpy as np\n",
        "import matplotlib.pyplot as plt\n",
        "import seaborn as sns\n",
        "from sklearn.linear_model import LogisticRegression"
      ],
      "execution_count": 0,
      "outputs": []
    },
    {
      "metadata": {
        "id": "4MRDbO0m-tSu",
        "colab_type": "code",
        "colab": {
          "base_uri": "https://localhost:8080/",
          "height": 72
        },
        "outputId": "67fe6bff-13da-40d1-cec4-90beeae6db29"
      },
      "cell_type": "code",
      "source": [
        "df_train = pd.read_csv('https://raw.githubusercontent.com/pasha00786/AmEx/master/Training_dataset_Original.csv')"
      ],
      "execution_count": 2,
      "outputs": [
        {
          "output_type": "stream",
          "text": [
            "/usr/local/lib/python3.6/dist-packages/IPython/core/interactiveshell.py:2718: DtypeWarning: Columns (19) have mixed types. Specify dtype option on import or set low_memory=False.\n",
            "  interactivity=interactivity, compiler=compiler, result=result)\n"
          ],
          "name": "stderr"
        }
      ]
    },
    {
      "metadata": {
        "id": "goY1-Bk8-wXZ",
        "colab_type": "code",
        "colab": {
          "base_uri": "https://localhost:8080/",
          "height": 955
        },
        "outputId": "e66bfa10-92be-44bf-f01e-c597a4672ecb"
      },
      "cell_type": "code",
      "source": [
        "df_train.info()"
      ],
      "execution_count": 3,
      "outputs": [
        {
          "output_type": "stream",
          "text": [
            "<class 'pandas.core.frame.DataFrame'>\n",
            "RangeIndex: 80000 entries, 0 to 79999\n",
            "Data columns (total 49 columns):\n",
            "application_key    80000 non-null int64\n",
            "mvar1              80000 non-null object\n",
            "mvar2              74447 non-null float64\n",
            "mvar3              79499 non-null float64\n",
            "mvar4              79499 non-null float64\n",
            "mvar5              79499 non-null float64\n",
            "mvar6              80000 non-null object\n",
            "mvar7              80000 non-null object\n",
            "mvar8              80000 non-null object\n",
            "mvar9              80000 non-null object\n",
            "mvar10             80000 non-null object\n",
            "mvar11             80000 non-null object\n",
            "mvar12             80000 non-null object\n",
            "mvar13             80000 non-null object\n",
            "mvar14             80000 non-null int64\n",
            "mvar15             80000 non-null object\n",
            "mvar16             80000 non-null object\n",
            "mvar17             80000 non-null object\n",
            "mvar18             80000 non-null object\n",
            "mvar19             80000 non-null object\n",
            "mvar20             80000 non-null object\n",
            "mvar21             57439 non-null float64\n",
            "mvar22             50876 non-null float64\n",
            "mvar23             39752 non-null float64\n",
            "mvar24             61098 non-null float64\n",
            "mvar25             80000 non-null object\n",
            "mvar26             80000 non-null object\n",
            "mvar27             80000 non-null object\n",
            "mvar28             80000 non-null object\n",
            "mvar29             80000 non-null object\n",
            "mvar30             80000 non-null object\n",
            "mvar31             80000 non-null object\n",
            "mvar32             80000 non-null object\n",
            "mvar33             78249 non-null float64\n",
            "mvar34             80000 non-null object\n",
            "mvar35             80000 non-null object\n",
            "mvar36             80000 non-null object\n",
            "mvar37             80000 non-null object\n",
            "mvar38             80000 non-null object\n",
            "mvar39             80000 non-null object\n",
            "mvar40             80000 non-null object\n",
            "mvar41             80000 non-null object\n",
            "mvar42             80000 non-null object\n",
            "mvar43             80000 non-null object\n",
            "mvar44             72255 non-null float64\n",
            "mvar45             80000 non-null object\n",
            "mvar46             80000 non-null object\n",
            "mvar47             80000 non-null object\n",
            "default_ind        80000 non-null int64\n",
            "dtypes: float64(10), int64(3), object(36)\n",
            "memory usage: 29.9+ MB\n"
          ],
          "name": "stdout"
        }
      ]
    },
    {
      "metadata": {
        "id": "j0ot9Mg-BW5H",
        "colab_type": "code",
        "colab": {}
      },
      "cell_type": "code",
      "source": [
        "df_train = df_train.replace('missing' , np.nan)"
      ],
      "execution_count": 0,
      "outputs": []
    },
    {
      "metadata": {
        "id": "3fZaVMLTB9tW",
        "colab_type": "code",
        "colab": {}
      },
      "cell_type": "code",
      "source": [
        "df_train = df_train.replace('na' , np.nan)"
      ],
      "execution_count": 0,
      "outputs": []
    },
    {
      "metadata": {
        "id": "H_OgbReBCCt2",
        "colab_type": "code",
        "colab": {
          "base_uri": "https://localhost:8080/",
          "height": 34
        },
        "outputId": "a896ebc0-886d-40d3-a081-a9297d475b42"
      },
      "cell_type": "code",
      "source": [
        "df_train['mvar47'].unique()"
      ],
      "execution_count": 6,
      "outputs": [
        {
          "output_type": "execute_result",
          "data": {
            "text/plain": [
              "array(['C', 'L'], dtype=object)"
            ]
          },
          "metadata": {
            "tags": []
          },
          "execution_count": 6
        }
      ]
    },
    {
      "metadata": {
        "id": "F3WmyM8xCP5-",
        "colab_type": "code",
        "colab": {}
      },
      "cell_type": "code",
      "source": [
        "df_train['mvar47'].replace(['C','L'],[0,1] ,inplace=True)"
      ],
      "execution_count": 0,
      "outputs": []
    },
    {
      "metadata": {
        "id": "tppDkVQkCcxh",
        "colab_type": "code",
        "colab": {}
      },
      "cell_type": "code",
      "source": [
        "df_train = df_train.apply(pd.to_numeric, errors = 'coerce')"
      ],
      "execution_count": 0,
      "outputs": []
    },
    {
      "metadata": {
        "id": "MUtvDyO9C6Ia",
        "colab_type": "code",
        "colab": {
          "base_uri": "https://localhost:8080/",
          "height": 955
        },
        "outputId": "a59efad4-b7f1-4ea4-9281-c4eba360a077"
      },
      "cell_type": "code",
      "source": [
        "df_train.info()"
      ],
      "execution_count": 9,
      "outputs": [
        {
          "output_type": "stream",
          "text": [
            "<class 'pandas.core.frame.DataFrame'>\n",
            "RangeIndex: 80000 entries, 0 to 79999\n",
            "Data columns (total 49 columns):\n",
            "application_key    80000 non-null int64\n",
            "mvar1              76361 non-null float64\n",
            "mvar2              74447 non-null float64\n",
            "mvar3              79499 non-null float64\n",
            "mvar4              79499 non-null float64\n",
            "mvar5              79499 non-null float64\n",
            "mvar6              61036 non-null float64\n",
            "mvar7              72606 non-null float64\n",
            "mvar8              61036 non-null float64\n",
            "mvar9              68592 non-null float64\n",
            "mvar10             79498 non-null float64\n",
            "mvar11             35181 non-null float64\n",
            "mvar12             65922 non-null float64\n",
            "mvar13             71648 non-null float64\n",
            "mvar14             80000 non-null int64\n",
            "mvar15             47933 non-null float64\n",
            "mvar16             61490 non-null float64\n",
            "mvar17             64154 non-null float64\n",
            "mvar18             65229 non-null float64\n",
            "mvar19             79996 non-null float64\n",
            "mvar20             79498 non-null float64\n",
            "mvar21             57439 non-null float64\n",
            "mvar22             50876 non-null float64\n",
            "mvar23             39752 non-null float64\n",
            "mvar24             61098 non-null float64\n",
            "mvar25             72294 non-null float64\n",
            "mvar26             69390 non-null float64\n",
            "mvar27             66791 non-null float64\n",
            "mvar28             79498 non-null float64\n",
            "mvar29             79498 non-null float64\n",
            "mvar30             43583 non-null float64\n",
            "mvar31             23782 non-null float64\n",
            "mvar32             72294 non-null float64\n",
            "mvar33             78249 non-null float64\n",
            "mvar34             79498 non-null float64\n",
            "mvar35             46986 non-null float64\n",
            "mvar36             77102 non-null float64\n",
            "mvar37             72294 non-null float64\n",
            "mvar38             79498 non-null float64\n",
            "mvar39             73960 non-null float64\n",
            "mvar40             17443 non-null float64\n",
            "mvar41             25422 non-null float64\n",
            "mvar42             78099 non-null float64\n",
            "mvar43             79182 non-null float64\n",
            "mvar44             72255 non-null float64\n",
            "mvar45             35145 non-null float64\n",
            "mvar46             57211 non-null float64\n",
            "mvar47             80000 non-null int64\n",
            "default_ind        80000 non-null int64\n",
            "dtypes: float64(45), int64(4)\n",
            "memory usage: 29.9 MB\n"
          ],
          "name": "stdout"
        }
      ]
    },
    {
      "metadata": {
        "id": "eKrcbkzfGwnx",
        "colab_type": "code",
        "colab": {
          "base_uri": "https://localhost:8080/",
          "height": 885
        },
        "outputId": "5c78cdfb-0627-423c-cf9a-d22e270bf98a"
      },
      "cell_type": "code",
      "source": [
        "df_train.isnull().sum()"
      ],
      "execution_count": 10,
      "outputs": [
        {
          "output_type": "execute_result",
          "data": {
            "text/plain": [
              "application_key        0\n",
              "mvar1               3639\n",
              "mvar2               5553\n",
              "mvar3                501\n",
              "mvar4                501\n",
              "mvar5                501\n",
              "mvar6              18964\n",
              "mvar7               7394\n",
              "mvar8              18964\n",
              "mvar9              11408\n",
              "mvar10               502\n",
              "mvar11             44819\n",
              "mvar12             14078\n",
              "mvar13              8352\n",
              "mvar14                 0\n",
              "mvar15             32067\n",
              "mvar16             18510\n",
              "mvar17             15846\n",
              "mvar18             14771\n",
              "mvar19                 4\n",
              "mvar20               502\n",
              "mvar21             22561\n",
              "mvar22             29124\n",
              "mvar23             40248\n",
              "mvar24             18902\n",
              "mvar25              7706\n",
              "mvar26             10610\n",
              "mvar27             13209\n",
              "mvar28               502\n",
              "mvar29               502\n",
              "mvar30             36417\n",
              "mvar31             56218\n",
              "mvar32              7706\n",
              "mvar33              1751\n",
              "mvar34               502\n",
              "mvar35             33014\n",
              "mvar36              2898\n",
              "mvar37              7706\n",
              "mvar38               502\n",
              "mvar39              6040\n",
              "mvar40             62557\n",
              "mvar41             54578\n",
              "mvar42              1901\n",
              "mvar43               818\n",
              "mvar44              7745\n",
              "mvar45             44855\n",
              "mvar46             22789\n",
              "mvar47                 0\n",
              "default_ind            0\n",
              "dtype: int64"
            ]
          },
          "metadata": {
            "tags": []
          },
          "execution_count": 10
        }
      ]
    },
    {
      "metadata": {
        "id": "ipMTFfLyIHP4",
        "colab_type": "code",
        "colab": {
          "base_uri": "https://localhost:8080/",
          "height": 69
        },
        "outputId": "546409dc-a7d1-46e9-c67f-c95d248828e9"
      },
      "cell_type": "code",
      "source": [
        "!pip install -U scikit-learn"
      ],
      "execution_count": 11,
      "outputs": [
        {
          "output_type": "stream",
          "text": [
            "Requirement already up-to-date: scikit-learn in /usr/local/lib/python3.6/dist-packages (0.20.0)\n",
            "Requirement already satisfied, skipping upgrade: numpy>=1.8.2 in /usr/local/lib/python3.6/dist-packages (from scikit-learn) (1.15.2)\n",
            "Requirement already satisfied, skipping upgrade: scipy>=0.13.3 in /usr/local/lib/python3.6/dist-packages (from scikit-learn) (1.1.0)\n"
          ],
          "name": "stdout"
        }
      ]
    },
    {
      "metadata": {
        "id": "Dm2QltORGwoC",
        "colab_type": "code",
        "colab": {}
      },
      "cell_type": "code",
      "source": [
        "imputed_df_train = pd.read_csv('https://raw.githubusercontent.com/pasha00786/AmEx/master/data.csv')"
      ],
      "execution_count": 0,
      "outputs": []
    },
    {
      "metadata": {
        "id": "lw-D_C7dGwoR",
        "colab_type": "code",
        "colab": {}
      },
      "cell_type": "code",
      "source": [
        "from sklearn.model_selection import train_test_split\n",
        "X = imputed_df_train.drop(['application_key', 'default_ind'], axis = 1)\n",
        "y = imputed_df_train['default_ind']\n",
        "X_train, X_test, y_train, y_test = train_test_split(X, y, test_size=0.1, random_state=42)"
      ],
      "execution_count": 0,
      "outputs": []
    },
    {
      "metadata": {
        "id": "ZTy9R1Q8Gwoa",
        "colab_type": "code",
        "colab": {}
      },
      "cell_type": "code",
      "source": [
        "from sklearn.linear_model import LogisticRegression\n",
        "glmMod = LogisticRegression(penalty='l1', dual=False, tol=0.0001, C=1.0, fit_intercept=True,\n",
        "                            intercept_scaling=1, class_weight=None, \n",
        "                            random_state=None, solver='liblinear', max_iter=100,\n",
        "                            multi_class='ovr', verbose=2)"
      ],
      "execution_count": 0,
      "outputs": []
    },
    {
      "metadata": {
        "id": "O5uUhJmKGwoq",
        "colab_type": "code",
        "colab": {
          "base_uri": "https://localhost:8080/",
          "height": 86
        },
        "outputId": "6f93d2a6-4b54-4a5e-aafa-62bc4b00a78e"
      },
      "cell_type": "code",
      "source": [
        "glmMod.fit(X_train, y_train)"
      ],
      "execution_count": 15,
      "outputs": [
        {
          "output_type": "stream",
          "text": [
            "[LibLinear]"
          ],
          "name": "stdout"
        },
        {
          "output_type": "execute_result",
          "data": {
            "text/plain": [
              "LogisticRegression(C=1.0, class_weight=None, dual=False, fit_intercept=True,\n",
              "          intercept_scaling=1, max_iter=100, multi_class='ovr',\n",
              "          n_jobs=None, penalty='l1', random_state=None, solver='liblinear',\n",
              "          tol=0.0001, verbose=2, warm_start=False)"
            ]
          },
          "metadata": {
            "tags": []
          },
          "execution_count": 15
        }
      ]
    },
    {
      "metadata": {
        "id": "xs-sCT4GGwo4",
        "colab_type": "code",
        "colab": {
          "base_uri": "https://localhost:8080/",
          "height": 34
        },
        "outputId": "781a141e-3402-499f-976e-dc2143425005"
      },
      "cell_type": "code",
      "source": [
        "glmMod.score(X_test, y_test)"
      ],
      "execution_count": 16,
      "outputs": [
        {
          "output_type": "execute_result",
          "data": {
            "text/plain": [
              "0.805125"
            ]
          },
          "metadata": {
            "tags": []
          },
          "execution_count": 16
        }
      ]
    },
    {
      "metadata": {
        "id": "tUZMadUcMlcA",
        "colab_type": "code",
        "colab": {}
      },
      "cell_type": "code",
      "source": [
        "#!apt-get install python-joblib"
      ],
      "execution_count": 0,
      "outputs": []
    },
    {
      "metadata": {
        "id": "DQyyHplnOORo",
        "colab_type": "code",
        "colab": {
          "base_uri": "https://localhost:8080/",
          "height": 34
        },
        "outputId": "58a6dd89-8381-48ec-f9ff-0dbc81e1473d"
      },
      "cell_type": "code",
      "source": [
        "!pip install -U numpy"
      ],
      "execution_count": 18,
      "outputs": [
        {
          "output_type": "stream",
          "text": [
            "Requirement already up-to-date: numpy in /usr/local/lib/python3.6/dist-packages (1.15.2)\n"
          ],
          "name": "stdout"
        }
      ]
    },
    {
      "metadata": {
        "id": "9UAPXYQqGwpP",
        "colab_type": "code",
        "colab": {}
      },
      "cell_type": "code",
      "source": [
        "from sklearn.ensemble import AdaBoostClassifier, GradientBoostingClassifier, RandomForestClassifier\n",
        "from sklearn.neighbors import KNeighborsClassifier\n",
        "from sklearn.model_selection import train_test_split\n",
        "from sklearn.metrics import roc_auc_score"
      ],
      "execution_count": 0,
      "outputs": []
    },
    {
      "metadata": {
        "id": "aXPZFz-aGwpp",
        "colab_type": "code",
        "colab": {}
      },
      "cell_type": "code",
      "source": [
        "adaMod = AdaBoostClassifier(base_estimator=None, n_estimators=200, learning_rate=1.0)"
      ],
      "execution_count": 0,
      "outputs": []
    },
    {
      "metadata": {
        "id": "kFWTSw6hGwp3",
        "colab_type": "code",
        "colab": {
          "base_uri": "https://localhost:8080/",
          "height": 52
        },
        "outputId": "5fd91798-6827-40a6-8397-3873fa964929"
      },
      "cell_type": "code",
      "source": [
        "adaMod.fit(X_train, y_train)"
      ],
      "execution_count": 21,
      "outputs": [
        {
          "output_type": "execute_result",
          "data": {
            "text/plain": [
              "AdaBoostClassifier(algorithm='SAMME.R', base_estimator=None,\n",
              "          learning_rate=1.0, n_estimators=200, random_state=None)"
            ]
          },
          "metadata": {
            "tags": []
          },
          "execution_count": 21
        }
      ]
    },
    {
      "metadata": {
        "id": "6HhjD7odGwqO",
        "colab_type": "code",
        "colab": {
          "base_uri": "https://localhost:8080/",
          "height": 34
        },
        "outputId": "97b54263-1268-43dd-8aef-e2b6e5c3fe91"
      },
      "cell_type": "code",
      "source": [
        "adaMod.score(X_test, y_test)"
      ],
      "execution_count": 22,
      "outputs": [
        {
          "output_type": "execute_result",
          "data": {
            "text/plain": [
              "0.811125"
            ]
          },
          "metadata": {
            "tags": []
          },
          "execution_count": 22
        }
      ]
    },
    {
      "metadata": {
        "id": "OHUTqTyoGwqf",
        "colab_type": "code",
        "colab": {}
      },
      "cell_type": "code",
      "source": [
        "gbMod = GradientBoostingClassifier(loss='deviance', learning_rate=0.1, n_estimators=200, subsample=1.0,\n",
        "                                   min_samples_split=2, min_samples_leaf=1, min_weight_fraction_leaf=0.0, \n",
        "                                   max_depth=3,\n",
        "                                   init=None, random_state=None, max_features=None, verbose=0)"
      ],
      "execution_count": 0,
      "outputs": []
    },
    {
      "metadata": {
        "id": "HhwWePo8Gwqu",
        "colab_type": "code",
        "colab": {
          "base_uri": "https://localhost:8080/",
          "height": 173
        },
        "outputId": "9cdd27a2-dc1e-4aa8-ce55-ea9299b14fe8"
      },
      "cell_type": "code",
      "source": [
        "gbMod.fit(X_train, y_train)"
      ],
      "execution_count": 24,
      "outputs": [
        {
          "output_type": "execute_result",
          "data": {
            "text/plain": [
              "GradientBoostingClassifier(criterion='friedman_mse', init=None,\n",
              "              learning_rate=0.1, loss='deviance', max_depth=3,\n",
              "              max_features=None, max_leaf_nodes=None,\n",
              "              min_impurity_decrease=0.0, min_impurity_split=None,\n",
              "              min_samples_leaf=1, min_samples_split=2,\n",
              "              min_weight_fraction_leaf=0.0, n_estimators=200,\n",
              "              n_iter_no_change=None, presort='auto', random_state=None,\n",
              "              subsample=1.0, tol=0.0001, validation_fraction=0.1,\n",
              "              verbose=0, warm_start=False)"
            ]
          },
          "metadata": {
            "tags": []
          },
          "execution_count": 24
        }
      ]
    },
    {
      "metadata": {
        "id": "fcDb4o9oGwrA",
        "colab_type": "code",
        "colab": {
          "base_uri": "https://localhost:8080/",
          "height": 34
        },
        "outputId": "bd8e72b8-f4b5-4ec7-d792-57eae49d4bee"
      },
      "cell_type": "code",
      "source": [
        "gbMod.score(X_test, y_test)"
      ],
      "execution_count": 25,
      "outputs": [
        {
          "output_type": "execute_result",
          "data": {
            "text/plain": [
              "0.814"
            ]
          },
          "metadata": {
            "tags": []
          },
          "execution_count": 25
        }
      ]
    },
    {
      "metadata": {
        "id": "0UgQfPI6GwrK",
        "colab_type": "code",
        "colab": {}
      },
      "cell_type": "code",
      "source": [
        "from sklearn.preprocessing import RobustScaler"
      ],
      "execution_count": 0,
      "outputs": []
    },
    {
      "metadata": {
        "id": "BFqMc7FSGwrO",
        "colab_type": "code",
        "colab": {}
      },
      "cell_type": "code",
      "source": [
        "scale = RobustScaler()"
      ],
      "execution_count": 0,
      "outputs": []
    },
    {
      "metadata": {
        "id": "eLgW-ac6GwrS",
        "colab_type": "code",
        "colab": {}
      },
      "cell_type": "code",
      "source": [
        "X_s = imputed_df_train.drop(['application_key', 'default_ind'], axis = 1)\n",
        "y_s = imputed_df_train['default_ind']"
      ],
      "execution_count": 0,
      "outputs": []
    },
    {
      "metadata": {
        "id": "8vTOlYTyGwrg",
        "colab_type": "code",
        "colab": {}
      },
      "cell_type": "code",
      "source": [
        "scaled_X = scale.fit_transform(X_s)"
      ],
      "execution_count": 0,
      "outputs": []
    },
    {
      "metadata": {
        "id": "S17i0Q6bGwrn",
        "colab_type": "code",
        "colab": {}
      },
      "cell_type": "code",
      "source": [
        "X_s_train, X_s_test, y_s_train, y_s_test = train_test_split(scaled_X, y_s, test_size=0.1, random_state=42)"
      ],
      "execution_count": 0,
      "outputs": []
    },
    {
      "metadata": {
        "id": "PqcwZlMJGwr4",
        "colab_type": "code",
        "colab": {}
      },
      "cell_type": "code",
      "source": [
        "gbMod_s = GradientBoostingClassifier(loss='deviance', learning_rate=0.1, n_estimators=200, subsample=1.0,\n",
        "                                   min_samples_split=2, min_samples_leaf=1, min_weight_fraction_leaf=0.0, \n",
        "                                   max_depth=3,\n",
        "                                   init=None, random_state=None, max_features=None, verbose=0)"
      ],
      "execution_count": 0,
      "outputs": []
    },
    {
      "metadata": {
        "id": "a2IAF55MGwsD",
        "colab_type": "code",
        "colab": {
          "base_uri": "https://localhost:8080/",
          "height": 173
        },
        "outputId": "753f01c7-29d1-4b9f-b676-da120089011c"
      },
      "cell_type": "code",
      "source": [
        "gbMod_s.fit(X_s_train, y_s_train)"
      ],
      "execution_count": 32,
      "outputs": [
        {
          "output_type": "execute_result",
          "data": {
            "text/plain": [
              "GradientBoostingClassifier(criterion='friedman_mse', init=None,\n",
              "              learning_rate=0.1, loss='deviance', max_depth=3,\n",
              "              max_features=None, max_leaf_nodes=None,\n",
              "              min_impurity_decrease=0.0, min_impurity_split=None,\n",
              "              min_samples_leaf=1, min_samples_split=2,\n",
              "              min_weight_fraction_leaf=0.0, n_estimators=200,\n",
              "              n_iter_no_change=None, presort='auto', random_state=None,\n",
              "              subsample=1.0, tol=0.0001, validation_fraction=0.1,\n",
              "              verbose=0, warm_start=False)"
            ]
          },
          "metadata": {
            "tags": []
          },
          "execution_count": 32
        }
      ]
    },
    {
      "metadata": {
        "id": "KIHfEnS8Gwse",
        "colab_type": "code",
        "colab": {
          "base_uri": "https://localhost:8080/",
          "height": 34
        },
        "outputId": "45c41753-aae6-4fbd-f9ae-605bb4d989c6"
      },
      "cell_type": "code",
      "source": [
        "gbMod_s.score(X_s_test, y_s_test)"
      ],
      "execution_count": 33,
      "outputs": [
        {
          "output_type": "execute_result",
          "data": {
            "text/plain": [
              "0.814"
            ]
          },
          "metadata": {
            "tags": []
          },
          "execution_count": 33
        }
      ]
    },
    {
      "metadata": {
        "id": "g_TRs9jXGwsl",
        "colab_type": "code",
        "colab": {}
      },
      "cell_type": "code",
      "source": [
        "test_labels=gbMod.predict_proba(X_s_test)[:,1]"
      ],
      "execution_count": 0,
      "outputs": []
    },
    {
      "metadata": {
        "id": "QaLpzDEgGwsr",
        "colab_type": "code",
        "colab": {
          "base_uri": "https://localhost:8080/",
          "height": 34
        },
        "outputId": "56ef8ba6-b1d3-490c-940b-0d7b24dea7e2"
      },
      "cell_type": "code",
      "source": [
        "roc_auc_score(y_s_test,test_labels , average='macro', sample_weight=None)"
      ],
      "execution_count": 35,
      "outputs": [
        {
          "output_type": "execute_result",
          "data": {
            "text/plain": [
              "0.673259964269491"
            ]
          },
          "metadata": {
            "tags": []
          },
          "execution_count": 35
        }
      ]
    },
    {
      "metadata": {
        "id": "jnghwhLeGws2",
        "colab_type": "code",
        "colab": {}
      },
      "cell_type": "code",
      "source": [
        "from sklearn.preprocessing import FunctionTransformer"
      ],
      "execution_count": 0,
      "outputs": []
    },
    {
      "metadata": {
        "id": "xH-IsQlAGws5",
        "colab_type": "code",
        "colab": {}
      },
      "cell_type": "code",
      "source": [
        "transformer = FunctionTransformer(np.log1p, validate=True)\n",
        "log_X = transformer.fit_transform(X)"
      ],
      "execution_count": 0,
      "outputs": []
    },
    {
      "metadata": {
        "id": "c4oOSF5ZGws-",
        "colab_type": "code",
        "colab": {}
      },
      "cell_type": "code",
      "source": [
        "X_l_train, X_l_test, y_l_train, y_l_test = train_test_split(log_X, y_s, test_size=0.1, random_state=42)"
      ],
      "execution_count": 0,
      "outputs": []
    },
    {
      "metadata": {
        "id": "ym9u6Za6GwtK",
        "colab_type": "code",
        "colab": {}
      },
      "cell_type": "code",
      "source": [
        "gbMod_l = GradientBoostingClassifier(loss='deviance', learning_rate=0.1, n_estimators=200, subsample=1.0,\n",
        "                                   min_samples_split=2, min_samples_leaf=1, min_weight_fraction_leaf=0.0, \n",
        "                                   max_depth=3,\n",
        "                                   init=None, random_state=None, max_features=None, verbose=0)"
      ],
      "execution_count": 0,
      "outputs": []
    },
    {
      "metadata": {
        "id": "lb6IA3JXGwtW",
        "colab_type": "code",
        "colab": {
          "base_uri": "https://localhost:8080/",
          "height": 173
        },
        "outputId": "b01d2d1c-880e-4993-8077-92c6890c3e95"
      },
      "cell_type": "code",
      "source": [
        "gbMod_l.fit(X_l_train, y_l_train)"
      ],
      "execution_count": 40,
      "outputs": [
        {
          "output_type": "execute_result",
          "data": {
            "text/plain": [
              "GradientBoostingClassifier(criterion='friedman_mse', init=None,\n",
              "              learning_rate=0.1, loss='deviance', max_depth=3,\n",
              "              max_features=None, max_leaf_nodes=None,\n",
              "              min_impurity_decrease=0.0, min_impurity_split=None,\n",
              "              min_samples_leaf=1, min_samples_split=2,\n",
              "              min_weight_fraction_leaf=0.0, n_estimators=200,\n",
              "              n_iter_no_change=None, presort='auto', random_state=None,\n",
              "              subsample=1.0, tol=0.0001, validation_fraction=0.1,\n",
              "              verbose=0, warm_start=False)"
            ]
          },
          "metadata": {
            "tags": []
          },
          "execution_count": 40
        }
      ]
    },
    {
      "metadata": {
        "id": "hPw_zYaSGwtd",
        "colab_type": "code",
        "colab": {
          "base_uri": "https://localhost:8080/",
          "height": 34
        },
        "outputId": "d7f668d9-646a-4d5b-9fa7-b1ae31b931cc"
      },
      "cell_type": "code",
      "source": [
        "gbMod_l.score(X_l_test, y_l_test)"
      ],
      "execution_count": 41,
      "outputs": [
        {
          "output_type": "execute_result",
          "data": {
            "text/plain": [
              "0.814"
            ]
          },
          "metadata": {
            "tags": []
          },
          "execution_count": 41
        }
      ]
    },
    {
      "metadata": {
        "id": "q6DaKztNGwtj",
        "colab_type": "code",
        "colab": {}
      },
      "cell_type": "code",
      "source": [
        "test_labels=gbMod_l.predict_proba(X_l_test)[:,1]"
      ],
      "execution_count": 0,
      "outputs": []
    },
    {
      "metadata": {
        "id": "Jjaeuz8JGwtu",
        "colab_type": "code",
        "colab": {
          "base_uri": "https://localhost:8080/",
          "height": 34
        },
        "outputId": "8040e45a-f824-4a69-bcb3-cf54bd1ee115"
      },
      "cell_type": "code",
      "source": [
        "roc_auc_score(y_l_test,test_labels , average='macro', sample_weight=None)"
      ],
      "execution_count": 43,
      "outputs": [
        {
          "output_type": "execute_result",
          "data": {
            "text/plain": [
              "0.841819518183164"
            ]
          },
          "metadata": {
            "tags": []
          },
          "execution_count": 43
        }
      ]
    },
    {
      "metadata": {
        "id": "g0iO6dFUGwt6",
        "colab_type": "code",
        "colab": {}
      },
      "cell_type": "code",
      "source": [
        "rfMod = RandomForestClassifier(n_estimators=10, criterion='gini', max_depth=None, min_samples_split=2,\n",
        "                               min_samples_leaf=1, min_weight_fraction_leaf=0.0, max_features='auto',\n",
        "                               max_leaf_nodes=None, bootstrap=True, oob_score=False, n_jobs=1, \n",
        "                               random_state=None, verbose=0)"
      ],
      "execution_count": 0,
      "outputs": []
    },
    {
      "metadata": {
        "id": "BqB-ADNBGwuB",
        "colab_type": "code",
        "colab": {
          "base_uri": "https://localhost:8080/",
          "height": 139
        },
        "outputId": "2bbf1abd-21b4-47d7-93e8-fe055c51e7dc"
      },
      "cell_type": "code",
      "source": [
        "rfMod.fit(X_l_train, y_l_train)"
      ],
      "execution_count": 45,
      "outputs": [
        {
          "output_type": "execute_result",
          "data": {
            "text/plain": [
              "RandomForestClassifier(bootstrap=True, class_weight=None, criterion='gini',\n",
              "            max_depth=None, max_features='auto', max_leaf_nodes=None,\n",
              "            min_impurity_decrease=0.0, min_impurity_split=None,\n",
              "            min_samples_leaf=1, min_samples_split=2,\n",
              "            min_weight_fraction_leaf=0.0, n_estimators=10, n_jobs=1,\n",
              "            oob_score=False, random_state=None, verbose=0,\n",
              "            warm_start=False)"
            ]
          },
          "metadata": {
            "tags": []
          },
          "execution_count": 45
        }
      ]
    },
    {
      "metadata": {
        "id": "O6KZt1ryGwuH",
        "colab_type": "code",
        "colab": {
          "base_uri": "https://localhost:8080/",
          "height": 34
        },
        "outputId": "1b41428a-642a-45a3-d73e-cfa1628d4c7a"
      },
      "cell_type": "code",
      "source": [
        "rfMod.score(X_l_test, y_l_test)"
      ],
      "execution_count": 46,
      "outputs": [
        {
          "output_type": "execute_result",
          "data": {
            "text/plain": [
              "0.79075"
            ]
          },
          "metadata": {
            "tags": []
          },
          "execution_count": 46
        }
      ]
    },
    {
      "metadata": {
        "id": "o6cNH5TcGwuN",
        "colab_type": "code",
        "colab": {
          "base_uri": "https://localhost:8080/",
          "height": 34
        },
        "outputId": "65aa4fee-4cf4-4dc2-91c5-a941d76529e7"
      },
      "cell_type": "code",
      "source": [
        "test_labels=rfMod.predict_proba(X_l_test)[:,1]\n",
        "roc_auc_score(y_l_test,test_labels , average='macro', sample_weight=None)"
      ],
      "execution_count": 47,
      "outputs": [
        {
          "output_type": "execute_result",
          "data": {
            "text/plain": [
              "0.7970641708890158"
            ]
          },
          "metadata": {
            "tags": []
          },
          "execution_count": 47
        }
      ]
    },
    {
      "metadata": {
        "id": "MgFFib7uGwuT",
        "colab_type": "code",
        "colab": {}
      },
      "cell_type": "code",
      "source": [
        "#Going with the GradientBoost Model as it has best score of AUC among all tested models"
      ],
      "execution_count": 0,
      "outputs": []
    },
    {
      "metadata": {
        "id": "z0NeGHinGwuX",
        "colab_type": "code",
        "colab": {
          "base_uri": "https://localhost:8080/",
          "height": 2045
        },
        "outputId": "a4500502-dd42-4058-8a0d-8dadd074fdf2"
      },
      "cell_type": "code",
      "source": [
        "from sklearn.model_selection import cross_val_score\n",
        "gbMod_l = GradientBoostingClassifier(loss='deviance', learning_rate=0.1, n_estimators=200, subsample=1.0,\n",
        "                                   min_samples_split=2, min_samples_leaf=1, min_weight_fraction_leaf=0.0, \n",
        "                                   max_depth=3,\n",
        "                                   init=None, random_state=None, max_features=None, verbose=0)\n",
        "cross_val_score(gbMod_l, log_X, y_s, cv=2)"
      ],
      "execution_count": 49,
      "outputs": [
        {
          "output_type": "error",
          "ename": "KeyboardInterrupt",
          "evalue": "ignored",
          "traceback": [
            "\u001b[0;31m---------------------------------------------------------------------------\u001b[0m",
            "\u001b[0;31mKeyboardInterrupt\u001b[0m                         Traceback (most recent call last)",
            "\u001b[0;32m<ipython-input-49-064d2005a1ff>\u001b[0m in \u001b[0;36m<module>\u001b[0;34m()\u001b[0m\n\u001b[1;32m      4\u001b[0m                                    \u001b[0mmax_depth\u001b[0m\u001b[0;34m=\u001b[0m\u001b[0;36m3\u001b[0m\u001b[0;34m,\u001b[0m\u001b[0;34m\u001b[0m\u001b[0m\n\u001b[1;32m      5\u001b[0m                                    init=None, random_state=None, max_features=None, verbose=0)\n\u001b[0;32m----> 6\u001b[0;31m \u001b[0mcross_val_score\u001b[0m\u001b[0;34m(\u001b[0m\u001b[0mgbMod_l\u001b[0m\u001b[0;34m,\u001b[0m \u001b[0mlog_X\u001b[0m\u001b[0;34m,\u001b[0m \u001b[0my_s\u001b[0m\u001b[0;34m,\u001b[0m \u001b[0mcv\u001b[0m\u001b[0;34m=\u001b[0m\u001b[0;36m2\u001b[0m\u001b[0;34m)\u001b[0m\u001b[0;34m\u001b[0m\u001b[0m\n\u001b[0m",
            "\u001b[0;32m/usr/local/lib/python3.6/dist-packages/sklearn/model_selection/_validation.py\u001b[0m in \u001b[0;36mcross_val_score\u001b[0;34m(estimator, X, y, groups, scoring, cv, n_jobs, verbose, fit_params, pre_dispatch, error_score)\u001b[0m\n\u001b[1;32m    400\u001b[0m                                 \u001b[0mfit_params\u001b[0m\u001b[0;34m=\u001b[0m\u001b[0mfit_params\u001b[0m\u001b[0;34m,\u001b[0m\u001b[0;34m\u001b[0m\u001b[0m\n\u001b[1;32m    401\u001b[0m                                 \u001b[0mpre_dispatch\u001b[0m\u001b[0;34m=\u001b[0m\u001b[0mpre_dispatch\u001b[0m\u001b[0;34m,\u001b[0m\u001b[0;34m\u001b[0m\u001b[0m\n\u001b[0;32m--> 402\u001b[0;31m                                 error_score=error_score)\n\u001b[0m\u001b[1;32m    403\u001b[0m     \u001b[0;32mreturn\u001b[0m \u001b[0mcv_results\u001b[0m\u001b[0;34m[\u001b[0m\u001b[0;34m'test_score'\u001b[0m\u001b[0;34m]\u001b[0m\u001b[0;34m\u001b[0m\u001b[0m\n\u001b[1;32m    404\u001b[0m \u001b[0;34m\u001b[0m\u001b[0m\n",
            "\u001b[0;32m/usr/local/lib/python3.6/dist-packages/sklearn/model_selection/_validation.py\u001b[0m in \u001b[0;36mcross_validate\u001b[0;34m(estimator, X, y, groups, scoring, cv, n_jobs, verbose, fit_params, pre_dispatch, return_train_score, return_estimator, error_score)\u001b[0m\n\u001b[1;32m    238\u001b[0m             \u001b[0mreturn_times\u001b[0m\u001b[0;34m=\u001b[0m\u001b[0;32mTrue\u001b[0m\u001b[0;34m,\u001b[0m \u001b[0mreturn_estimator\u001b[0m\u001b[0;34m=\u001b[0m\u001b[0mreturn_estimator\u001b[0m\u001b[0;34m,\u001b[0m\u001b[0;34m\u001b[0m\u001b[0m\n\u001b[1;32m    239\u001b[0m             error_score=error_score)\n\u001b[0;32m--> 240\u001b[0;31m         for train, test in cv.split(X, y, groups))\n\u001b[0m\u001b[1;32m    241\u001b[0m \u001b[0;34m\u001b[0m\u001b[0m\n\u001b[1;32m    242\u001b[0m     \u001b[0mzipped_scores\u001b[0m \u001b[0;34m=\u001b[0m \u001b[0mlist\u001b[0m\u001b[0;34m(\u001b[0m\u001b[0mzip\u001b[0m\u001b[0;34m(\u001b[0m\u001b[0;34m*\u001b[0m\u001b[0mscores\u001b[0m\u001b[0;34m)\u001b[0m\u001b[0;34m)\u001b[0m\u001b[0;34m\u001b[0m\u001b[0m\n",
            "\u001b[0;32m/usr/local/lib/python3.6/dist-packages/sklearn/externals/joblib/parallel.py\u001b[0m in \u001b[0;36m__call__\u001b[0;34m(self, iterable)\u001b[0m\n\u001b[1;32m    981\u001b[0m             \u001b[0;31m# remaining jobs.\u001b[0m\u001b[0;34m\u001b[0m\u001b[0;34m\u001b[0m\u001b[0m\n\u001b[1;32m    982\u001b[0m             \u001b[0mself\u001b[0m\u001b[0;34m.\u001b[0m\u001b[0m_iterating\u001b[0m \u001b[0;34m=\u001b[0m \u001b[0;32mFalse\u001b[0m\u001b[0;34m\u001b[0m\u001b[0m\n\u001b[0;32m--> 983\u001b[0;31m             \u001b[0;32mif\u001b[0m \u001b[0mself\u001b[0m\u001b[0;34m.\u001b[0m\u001b[0mdispatch_one_batch\u001b[0m\u001b[0;34m(\u001b[0m\u001b[0miterator\u001b[0m\u001b[0;34m)\u001b[0m\u001b[0;34m:\u001b[0m\u001b[0;34m\u001b[0m\u001b[0m\n\u001b[0m\u001b[1;32m    984\u001b[0m                 \u001b[0mself\u001b[0m\u001b[0;34m.\u001b[0m\u001b[0m_iterating\u001b[0m \u001b[0;34m=\u001b[0m \u001b[0mself\u001b[0m\u001b[0;34m.\u001b[0m\u001b[0m_original_iterator\u001b[0m \u001b[0;32mis\u001b[0m \u001b[0;32mnot\u001b[0m \u001b[0;32mNone\u001b[0m\u001b[0;34m\u001b[0m\u001b[0m\n\u001b[1;32m    985\u001b[0m \u001b[0;34m\u001b[0m\u001b[0m\n",
            "\u001b[0;32m/usr/local/lib/python3.6/dist-packages/sklearn/externals/joblib/parallel.py\u001b[0m in \u001b[0;36mdispatch_one_batch\u001b[0;34m(self, iterator)\u001b[0m\n\u001b[1;32m    823\u001b[0m                 \u001b[0;32mreturn\u001b[0m \u001b[0;32mFalse\u001b[0m\u001b[0;34m\u001b[0m\u001b[0m\n\u001b[1;32m    824\u001b[0m             \u001b[0;32melse\u001b[0m\u001b[0;34m:\u001b[0m\u001b[0;34m\u001b[0m\u001b[0m\n\u001b[0;32m--> 825\u001b[0;31m                 \u001b[0mself\u001b[0m\u001b[0;34m.\u001b[0m\u001b[0m_dispatch\u001b[0m\u001b[0;34m(\u001b[0m\u001b[0mtasks\u001b[0m\u001b[0;34m)\u001b[0m\u001b[0;34m\u001b[0m\u001b[0m\n\u001b[0m\u001b[1;32m    826\u001b[0m                 \u001b[0;32mreturn\u001b[0m \u001b[0;32mTrue\u001b[0m\u001b[0;34m\u001b[0m\u001b[0m\n\u001b[1;32m    827\u001b[0m \u001b[0;34m\u001b[0m\u001b[0m\n",
            "\u001b[0;32m/usr/local/lib/python3.6/dist-packages/sklearn/externals/joblib/parallel.py\u001b[0m in \u001b[0;36m_dispatch\u001b[0;34m(self, batch)\u001b[0m\n\u001b[1;32m    780\u001b[0m         \u001b[0;32mwith\u001b[0m \u001b[0mself\u001b[0m\u001b[0;34m.\u001b[0m\u001b[0m_lock\u001b[0m\u001b[0;34m:\u001b[0m\u001b[0;34m\u001b[0m\u001b[0m\n\u001b[1;32m    781\u001b[0m             \u001b[0mjob_idx\u001b[0m \u001b[0;34m=\u001b[0m \u001b[0mlen\u001b[0m\u001b[0;34m(\u001b[0m\u001b[0mself\u001b[0m\u001b[0;34m.\u001b[0m\u001b[0m_jobs\u001b[0m\u001b[0;34m)\u001b[0m\u001b[0;34m\u001b[0m\u001b[0m\n\u001b[0;32m--> 782\u001b[0;31m             \u001b[0mjob\u001b[0m \u001b[0;34m=\u001b[0m \u001b[0mself\u001b[0m\u001b[0;34m.\u001b[0m\u001b[0m_backend\u001b[0m\u001b[0;34m.\u001b[0m\u001b[0mapply_async\u001b[0m\u001b[0;34m(\u001b[0m\u001b[0mbatch\u001b[0m\u001b[0;34m,\u001b[0m \u001b[0mcallback\u001b[0m\u001b[0;34m=\u001b[0m\u001b[0mcb\u001b[0m\u001b[0;34m)\u001b[0m\u001b[0;34m\u001b[0m\u001b[0m\n\u001b[0m\u001b[1;32m    783\u001b[0m             \u001b[0;31m# A job can complete so quickly than its callback is\u001b[0m\u001b[0;34m\u001b[0m\u001b[0;34m\u001b[0m\u001b[0m\n\u001b[1;32m    784\u001b[0m             \u001b[0;31m# called before we get here, causing self._jobs to\u001b[0m\u001b[0;34m\u001b[0m\u001b[0;34m\u001b[0m\u001b[0m\n",
            "\u001b[0;32m/usr/local/lib/python3.6/dist-packages/sklearn/externals/joblib/_parallel_backends.py\u001b[0m in \u001b[0;36mapply_async\u001b[0;34m(self, func, callback)\u001b[0m\n\u001b[1;32m    180\u001b[0m     \u001b[0;32mdef\u001b[0m \u001b[0mapply_async\u001b[0m\u001b[0;34m(\u001b[0m\u001b[0mself\u001b[0m\u001b[0;34m,\u001b[0m \u001b[0mfunc\u001b[0m\u001b[0;34m,\u001b[0m \u001b[0mcallback\u001b[0m\u001b[0;34m=\u001b[0m\u001b[0;32mNone\u001b[0m\u001b[0;34m)\u001b[0m\u001b[0;34m:\u001b[0m\u001b[0;34m\u001b[0m\u001b[0m\n\u001b[1;32m    181\u001b[0m         \u001b[0;34m\"\"\"Schedule a func to be run\"\"\"\u001b[0m\u001b[0;34m\u001b[0m\u001b[0m\n\u001b[0;32m--> 182\u001b[0;31m         \u001b[0mresult\u001b[0m \u001b[0;34m=\u001b[0m \u001b[0mImmediateResult\u001b[0m\u001b[0;34m(\u001b[0m\u001b[0mfunc\u001b[0m\u001b[0;34m)\u001b[0m\u001b[0;34m\u001b[0m\u001b[0m\n\u001b[0m\u001b[1;32m    183\u001b[0m         \u001b[0;32mif\u001b[0m \u001b[0mcallback\u001b[0m\u001b[0;34m:\u001b[0m\u001b[0;34m\u001b[0m\u001b[0m\n\u001b[1;32m    184\u001b[0m             \u001b[0mcallback\u001b[0m\u001b[0;34m(\u001b[0m\u001b[0mresult\u001b[0m\u001b[0;34m)\u001b[0m\u001b[0;34m\u001b[0m\u001b[0m\n",
            "\u001b[0;32m/usr/local/lib/python3.6/dist-packages/sklearn/externals/joblib/_parallel_backends.py\u001b[0m in \u001b[0;36m__init__\u001b[0;34m(self, batch)\u001b[0m\n\u001b[1;32m    543\u001b[0m         \u001b[0;31m# Don't delay the application, to avoid keeping the input\u001b[0m\u001b[0;34m\u001b[0m\u001b[0;34m\u001b[0m\u001b[0m\n\u001b[1;32m    544\u001b[0m         \u001b[0;31m# arguments in memory\u001b[0m\u001b[0;34m\u001b[0m\u001b[0;34m\u001b[0m\u001b[0m\n\u001b[0;32m--> 545\u001b[0;31m         \u001b[0mself\u001b[0m\u001b[0;34m.\u001b[0m\u001b[0mresults\u001b[0m \u001b[0;34m=\u001b[0m \u001b[0mbatch\u001b[0m\u001b[0;34m(\u001b[0m\u001b[0;34m)\u001b[0m\u001b[0;34m\u001b[0m\u001b[0m\n\u001b[0m\u001b[1;32m    546\u001b[0m \u001b[0;34m\u001b[0m\u001b[0m\n\u001b[1;32m    547\u001b[0m     \u001b[0;32mdef\u001b[0m \u001b[0mget\u001b[0m\u001b[0;34m(\u001b[0m\u001b[0mself\u001b[0m\u001b[0;34m)\u001b[0m\u001b[0;34m:\u001b[0m\u001b[0;34m\u001b[0m\u001b[0m\n",
            "\u001b[0;32m/usr/local/lib/python3.6/dist-packages/sklearn/externals/joblib/parallel.py\u001b[0m in \u001b[0;36m__call__\u001b[0;34m(self)\u001b[0m\n\u001b[1;32m    259\u001b[0m         \u001b[0;32mwith\u001b[0m \u001b[0mparallel_backend\u001b[0m\u001b[0;34m(\u001b[0m\u001b[0mself\u001b[0m\u001b[0;34m.\u001b[0m\u001b[0m_backend\u001b[0m\u001b[0;34m)\u001b[0m\u001b[0;34m:\u001b[0m\u001b[0;34m\u001b[0m\u001b[0m\n\u001b[1;32m    260\u001b[0m             return [func(*args, **kwargs)\n\u001b[0;32m--> 261\u001b[0;31m                     for func, args, kwargs in self.items]\n\u001b[0m\u001b[1;32m    262\u001b[0m \u001b[0;34m\u001b[0m\u001b[0m\n\u001b[1;32m    263\u001b[0m     \u001b[0;32mdef\u001b[0m \u001b[0m__len__\u001b[0m\u001b[0;34m(\u001b[0m\u001b[0mself\u001b[0m\u001b[0;34m)\u001b[0m\u001b[0;34m:\u001b[0m\u001b[0;34m\u001b[0m\u001b[0m\n",
            "\u001b[0;32m/usr/local/lib/python3.6/dist-packages/sklearn/externals/joblib/parallel.py\u001b[0m in \u001b[0;36m<listcomp>\u001b[0;34m(.0)\u001b[0m\n\u001b[1;32m    259\u001b[0m         \u001b[0;32mwith\u001b[0m \u001b[0mparallel_backend\u001b[0m\u001b[0;34m(\u001b[0m\u001b[0mself\u001b[0m\u001b[0;34m.\u001b[0m\u001b[0m_backend\u001b[0m\u001b[0;34m)\u001b[0m\u001b[0;34m:\u001b[0m\u001b[0;34m\u001b[0m\u001b[0m\n\u001b[1;32m    260\u001b[0m             return [func(*args, **kwargs)\n\u001b[0;32m--> 261\u001b[0;31m                     for func, args, kwargs in self.items]\n\u001b[0m\u001b[1;32m    262\u001b[0m \u001b[0;34m\u001b[0m\u001b[0m\n\u001b[1;32m    263\u001b[0m     \u001b[0;32mdef\u001b[0m \u001b[0m__len__\u001b[0m\u001b[0;34m(\u001b[0m\u001b[0mself\u001b[0m\u001b[0;34m)\u001b[0m\u001b[0;34m:\u001b[0m\u001b[0;34m\u001b[0m\u001b[0m\n",
            "\u001b[0;32m/usr/local/lib/python3.6/dist-packages/sklearn/model_selection/_validation.py\u001b[0m in \u001b[0;36m_fit_and_score\u001b[0;34m(estimator, X, y, scorer, train, test, verbose, parameters, fit_params, return_train_score, return_parameters, return_n_test_samples, return_times, return_estimator, error_score)\u001b[0m\n\u001b[1;32m    526\u001b[0m             \u001b[0mestimator\u001b[0m\u001b[0;34m.\u001b[0m\u001b[0mfit\u001b[0m\u001b[0;34m(\u001b[0m\u001b[0mX_train\u001b[0m\u001b[0;34m,\u001b[0m \u001b[0;34m**\u001b[0m\u001b[0mfit_params\u001b[0m\u001b[0;34m)\u001b[0m\u001b[0;34m\u001b[0m\u001b[0m\n\u001b[1;32m    527\u001b[0m         \u001b[0;32melse\u001b[0m\u001b[0;34m:\u001b[0m\u001b[0;34m\u001b[0m\u001b[0m\n\u001b[0;32m--> 528\u001b[0;31m             \u001b[0mestimator\u001b[0m\u001b[0;34m.\u001b[0m\u001b[0mfit\u001b[0m\u001b[0;34m(\u001b[0m\u001b[0mX_train\u001b[0m\u001b[0;34m,\u001b[0m \u001b[0my_train\u001b[0m\u001b[0;34m,\u001b[0m \u001b[0;34m**\u001b[0m\u001b[0mfit_params\u001b[0m\u001b[0;34m)\u001b[0m\u001b[0;34m\u001b[0m\u001b[0m\n\u001b[0m\u001b[1;32m    529\u001b[0m \u001b[0;34m\u001b[0m\u001b[0m\n\u001b[1;32m    530\u001b[0m     \u001b[0;32mexcept\u001b[0m \u001b[0mException\u001b[0m \u001b[0;32mas\u001b[0m \u001b[0me\u001b[0m\u001b[0;34m:\u001b[0m\u001b[0;34m\u001b[0m\u001b[0m\n",
            "\u001b[0;32m/usr/local/lib/python3.6/dist-packages/sklearn/ensemble/gradient_boosting.py\u001b[0m in \u001b[0;36mfit\u001b[0;34m(self, X, y, sample_weight, monitor)\u001b[0m\n\u001b[1;32m   1463\u001b[0m         n_stages = self._fit_stages(X, y, y_pred, sample_weight, self._rng,\n\u001b[1;32m   1464\u001b[0m                                     \u001b[0mX_val\u001b[0m\u001b[0;34m,\u001b[0m \u001b[0my_val\u001b[0m\u001b[0;34m,\u001b[0m \u001b[0msample_weight_val\u001b[0m\u001b[0;34m,\u001b[0m\u001b[0;34m\u001b[0m\u001b[0m\n\u001b[0;32m-> 1465\u001b[0;31m                                     begin_at_stage, monitor, X_idx_sorted)\n\u001b[0m\u001b[1;32m   1466\u001b[0m \u001b[0;34m\u001b[0m\u001b[0m\n\u001b[1;32m   1467\u001b[0m         \u001b[0;31m# change shape of arrays after fit (early-stopping or additional ests)\u001b[0m\u001b[0;34m\u001b[0m\u001b[0;34m\u001b[0m\u001b[0m\n",
            "\u001b[0;32m/usr/local/lib/python3.6/dist-packages/sklearn/ensemble/gradient_boosting.py\u001b[0m in \u001b[0;36m_fit_stages\u001b[0;34m(self, X, y, y_pred, sample_weight, random_state, X_val, y_val, sample_weight_val, begin_at_stage, monitor, X_idx_sorted)\u001b[0m\n\u001b[1;32m   1527\u001b[0m             y_pred = self._fit_stage(i, X, y, y_pred, sample_weight,\n\u001b[1;32m   1528\u001b[0m                                      \u001b[0msample_mask\u001b[0m\u001b[0;34m,\u001b[0m \u001b[0mrandom_state\u001b[0m\u001b[0;34m,\u001b[0m \u001b[0mX_idx_sorted\u001b[0m\u001b[0;34m,\u001b[0m\u001b[0;34m\u001b[0m\u001b[0m\n\u001b[0;32m-> 1529\u001b[0;31m                                      X_csc, X_csr)\n\u001b[0m\u001b[1;32m   1530\u001b[0m \u001b[0;34m\u001b[0m\u001b[0m\n\u001b[1;32m   1531\u001b[0m             \u001b[0;31m# track deviance (= loss)\u001b[0m\u001b[0;34m\u001b[0m\u001b[0;34m\u001b[0m\u001b[0m\n",
            "\u001b[0;32m/usr/local/lib/python3.6/dist-packages/sklearn/ensemble/gradient_boosting.py\u001b[0m in \u001b[0;36m_fit_stage\u001b[0;34m(self, i, X, y, y_pred, sample_weight, sample_mask, random_state, X_idx_sorted, X_csc, X_csr)\u001b[0m\n\u001b[1;32m   1192\u001b[0m             \u001b[0mX\u001b[0m \u001b[0;34m=\u001b[0m \u001b[0mX_csr\u001b[0m \u001b[0;32mif\u001b[0m \u001b[0mX_csr\u001b[0m \u001b[0;32mis\u001b[0m \u001b[0;32mnot\u001b[0m \u001b[0;32mNone\u001b[0m \u001b[0;32melse\u001b[0m \u001b[0mX\u001b[0m\u001b[0;34m\u001b[0m\u001b[0m\n\u001b[1;32m   1193\u001b[0m             tree.fit(X, residual, sample_weight=sample_weight,\n\u001b[0;32m-> 1194\u001b[0;31m                      check_input=False, X_idx_sorted=X_idx_sorted)\n\u001b[0m\u001b[1;32m   1195\u001b[0m \u001b[0;34m\u001b[0m\u001b[0m\n\u001b[1;32m   1196\u001b[0m             \u001b[0;31m# update tree leaves\u001b[0m\u001b[0;34m\u001b[0m\u001b[0;34m\u001b[0m\u001b[0m\n",
            "\u001b[0;32m/usr/local/lib/python3.6/dist-packages/sklearn/tree/tree.py\u001b[0m in \u001b[0;36mfit\u001b[0;34m(self, X, y, sample_weight, check_input, X_idx_sorted)\u001b[0m\n\u001b[1;32m   1137\u001b[0m             \u001b[0msample_weight\u001b[0m\u001b[0;34m=\u001b[0m\u001b[0msample_weight\u001b[0m\u001b[0;34m,\u001b[0m\u001b[0;34m\u001b[0m\u001b[0m\n\u001b[1;32m   1138\u001b[0m             \u001b[0mcheck_input\u001b[0m\u001b[0;34m=\u001b[0m\u001b[0mcheck_input\u001b[0m\u001b[0;34m,\u001b[0m\u001b[0;34m\u001b[0m\u001b[0m\n\u001b[0;32m-> 1139\u001b[0;31m             X_idx_sorted=X_idx_sorted)\n\u001b[0m\u001b[1;32m   1140\u001b[0m         \u001b[0;32mreturn\u001b[0m \u001b[0mself\u001b[0m\u001b[0;34m\u001b[0m\u001b[0m\n\u001b[1;32m   1141\u001b[0m \u001b[0;34m\u001b[0m\u001b[0m\n",
            "\u001b[0;32m/usr/local/lib/python3.6/dist-packages/sklearn/tree/tree.py\u001b[0m in \u001b[0;36mfit\u001b[0;34m(self, X, y, sample_weight, check_input, X_idx_sorted)\u001b[0m\n\u001b[1;32m    363\u001b[0m                                            min_impurity_split)\n\u001b[1;32m    364\u001b[0m \u001b[0;34m\u001b[0m\u001b[0m\n\u001b[0;32m--> 365\u001b[0;31m         \u001b[0mbuilder\u001b[0m\u001b[0;34m.\u001b[0m\u001b[0mbuild\u001b[0m\u001b[0;34m(\u001b[0m\u001b[0mself\u001b[0m\u001b[0;34m.\u001b[0m\u001b[0mtree_\u001b[0m\u001b[0;34m,\u001b[0m \u001b[0mX\u001b[0m\u001b[0;34m,\u001b[0m \u001b[0my\u001b[0m\u001b[0;34m,\u001b[0m \u001b[0msample_weight\u001b[0m\u001b[0;34m,\u001b[0m \u001b[0mX_idx_sorted\u001b[0m\u001b[0;34m)\u001b[0m\u001b[0;34m\u001b[0m\u001b[0m\n\u001b[0m\u001b[1;32m    366\u001b[0m \u001b[0;34m\u001b[0m\u001b[0m\n\u001b[1;32m    367\u001b[0m         \u001b[0;32mif\u001b[0m \u001b[0mself\u001b[0m\u001b[0;34m.\u001b[0m\u001b[0mn_outputs_\u001b[0m \u001b[0;34m==\u001b[0m \u001b[0;36m1\u001b[0m\u001b[0;34m:\u001b[0m\u001b[0;34m\u001b[0m\u001b[0m\n",
            "\u001b[0;31mKeyboardInterrupt\u001b[0m: "
          ]
        }
      ]
    },
    {
      "metadata": {
        "id": "rD6PInBFGwuf",
        "colab_type": "code",
        "colab": {}
      },
      "cell_type": "code",
      "source": [
        "basic_df = df_train.fillna(0)"
      ],
      "execution_count": 0,
      "outputs": []
    },
    {
      "metadata": {
        "id": "rbt-8xnpGwuj",
        "colab_type": "code",
        "colab": {}
      },
      "cell_type": "code",
      "source": [
        "X_b = basic_df.drop(['application_key', 'default_ind'], axis = 1)\n",
        "y_b = basic_df['default_ind']"
      ],
      "execution_count": 0,
      "outputs": []
    },
    {
      "metadata": {
        "id": "aPbd9VeGGwup",
        "colab_type": "code",
        "colab": {}
      },
      "cell_type": "code",
      "source": [
        "transformer = FunctionTransformer(np.log1p, validate=True)\n",
        "log_X_b = transformer.fit_transform(X_b)"
      ],
      "execution_count": 0,
      "outputs": []
    },
    {
      "metadata": {
        "id": "ijWo4VtCGwut",
        "colab_type": "code",
        "colab": {}
      },
      "cell_type": "code",
      "source": [
        "X_b_train, X_b_test, y_b_train, y_b_test = train_test_split(log_X_b, y_b, test_size=0.1, random_state=42)"
      ],
      "execution_count": 0,
      "outputs": []
    },
    {
      "metadata": {
        "id": "v4qKFfDOGwuy",
        "colab_type": "code",
        "colab": {}
      },
      "cell_type": "code",
      "source": [
        "gbMod_b = GradientBoostingClassifier(loss='deviance', learning_rate=0.1, n_estimators=200, subsample=1.0,\n",
        "                                   min_samples_split=2, min_samples_leaf=1, min_weight_fraction_leaf=0.0, \n",
        "                                   max_depth=3,\n",
        "                                   init=None, random_state=None, max_features=None, verbose=0)"
      ],
      "execution_count": 0,
      "outputs": []
    },
    {
      "metadata": {
        "id": "KpYr1MZ1GwvB",
        "colab_type": "code",
        "colab": {
          "base_uri": "https://localhost:8080/",
          "height": 173
        },
        "outputId": "bdcf2faa-55f2-4c50-8cd9-ad54d7cd4fe9"
      },
      "cell_type": "code",
      "source": [
        "gbMod_b.fit(X_b_train, y_b_train)"
      ],
      "execution_count": 55,
      "outputs": [
        {
          "output_type": "execute_result",
          "data": {
            "text/plain": [
              "GradientBoostingClassifier(criterion='friedman_mse', init=None,\n",
              "              learning_rate=0.1, loss='deviance', max_depth=3,\n",
              "              max_features=None, max_leaf_nodes=None,\n",
              "              min_impurity_decrease=0.0, min_impurity_split=None,\n",
              "              min_samples_leaf=1, min_samples_split=2,\n",
              "              min_weight_fraction_leaf=0.0, n_estimators=200,\n",
              "              n_iter_no_change=None, presort='auto', random_state=None,\n",
              "              subsample=1.0, tol=0.0001, validation_fraction=0.1,\n",
              "              verbose=0, warm_start=False)"
            ]
          },
          "metadata": {
            "tags": []
          },
          "execution_count": 55
        }
      ]
    },
    {
      "metadata": {
        "id": "x3N0JM22GwvV",
        "colab_type": "code",
        "colab": {
          "base_uri": "https://localhost:8080/",
          "height": 34
        },
        "outputId": "70d1f319-29fd-416b-c1a7-1a40ff408624"
      },
      "cell_type": "code",
      "source": [
        "gbMod_b.score(X_b_test, y_b_test)"
      ],
      "execution_count": 56,
      "outputs": [
        {
          "output_type": "execute_result",
          "data": {
            "text/plain": [
              "0.812875"
            ]
          },
          "metadata": {
            "tags": []
          },
          "execution_count": 56
        }
      ]
    },
    {
      "metadata": {
        "id": "go-KfYR0Gwvb",
        "colab_type": "code",
        "colab": {
          "base_uri": "https://localhost:8080/",
          "height": 34
        },
        "outputId": "8fa3886b-a9a3-4ff6-920f-7e18fa911e08"
      },
      "cell_type": "code",
      "source": [
        "#bestum bestest\n",
        "test_labels=gbMod_b.predict_proba(X_b_test)[:,1]\n",
        "roc_auc_score(y_b_test,test_labels , average='macro', sample_weight=None)"
      ],
      "execution_count": 57,
      "outputs": [
        {
          "output_type": "execute_result",
          "data": {
            "text/plain": [
              "0.8431253790162495"
            ]
          },
          "metadata": {
            "tags": []
          },
          "execution_count": 57
        }
      ]
    },
    {
      "metadata": {
        "id": "MGHxTrZZGwvu",
        "colab_type": "code",
        "colab": {}
      },
      "cell_type": "code",
      "source": [
        "from scipy.stats import spearmanr"
      ],
      "execution_count": 0,
      "outputs": []
    },
    {
      "metadata": {
        "id": "KSCxwjtQGwv6",
        "colab_type": "code",
        "colab": {}
      },
      "cell_type": "code",
      "source": [
        "rho, pval = spearmanr(df_train)"
      ],
      "execution_count": 0,
      "outputs": []
    },
    {
      "metadata": {
        "id": "z5eX_6knGwwE",
        "colab_type": "code",
        "colab": {
          "base_uri": "https://localhost:8080/",
          "height": 613
        },
        "outputId": "77aae551-01f1-4024-b35a-c92464d93a0d"
      },
      "cell_type": "code",
      "source": [
        "plt.figure(figsize = (10,10))\n",
        "sns.heatmap(abs(rho))"
      ],
      "execution_count": 60,
      "outputs": [
        {
          "output_type": "execute_result",
          "data": {
            "text/plain": [
              "<matplotlib.axes._subplots.AxesSubplot at 0x7fa6059e9cc0>"
            ]
          },
          "metadata": {
            "tags": []
          },
          "execution_count": 60
        },
        {
          "output_type": "display_data",
          "data": {
            "image/png": "[encoded data removed]",
            "text/plain": [
              "<matplotlib.figure.Figure at 0x7fa6059e90b8>"
            ]
          },
          "metadata": {
            "tags": []
          }
        }
      ]
    },
    {
      "metadata": {
        "id": "fVWgGApxGwwS",
        "colab_type": "code",
        "colab": {}
      },
      "cell_type": "code",
      "source": [
        "corr = pd.DataFrame(abs(rho))"
      ],
      "execution_count": 0,
      "outputs": []
    },
    {
      "metadata": {
        "id": "wjrRRPYyGwwd",
        "colab_type": "code",
        "colab": {}
      },
      "cell_type": "code",
      "source": [
        "feat = corr[48]"
      ],
      "execution_count": 0,
      "outputs": []
    },
    {
      "metadata": {
        "id": "EuugZgsVGwwj",
        "colab_type": "code",
        "colab": {}
      },
      "cell_type": "code",
      "source": [
        "feat = np.array(feat)"
      ],
      "execution_count": 0,
      "outputs": []
    },
    {
      "metadata": {
        "id": "0jfhT2PfGwwq",
        "colab_type": "code",
        "colab": {}
      },
      "cell_type": "code",
      "source": [
        "boo = feat > 0.2"
      ],
      "execution_count": 0,
      "outputs": []
    },
    {
      "metadata": {
        "id": "13f1jim9GwxH",
        "colab_type": "code",
        "colab": {
          "base_uri": "https://localhost:8080/",
          "height": 121
        },
        "outputId": "885ddb7f-0e36-4851-ba39-1d6565f495d4"
      },
      "cell_type": "code",
      "source": [
        "boo"
      ],
      "execution_count": 65,
      "outputs": [
        {
          "output_type": "execute_result",
          "data": {
            "text/plain": [
              "array([False,  True, False,  True, False, False, False, False, False,\n",
              "       False,  True,  True, False, False, False, False,  True,  True,\n",
              "        True, False, False,  True, False, False,  True, False, False,\n",
              "       False,  True,  True, False, False, False, False, False, False,\n",
              "       False, False, False,  True, False, False,  True,  True, False,\n",
              "       False, False,  True,  True])"
            ]
          },
          "metadata": {
            "tags": []
          },
          "execution_count": 65
        }
      ]
    },
    {
      "metadata": {
        "id": "k5LPgcOMGwxW",
        "colab_type": "code",
        "colab": {}
      },
      "cell_type": "code",
      "source": [
        "sel_columns = df_train.columns.values[boo]"
      ],
      "execution_count": 0,
      "outputs": []
    },
    {
      "metadata": {
        "id": "ckH0FtRmGwxd",
        "colab_type": "code",
        "colab": {}
      },
      "cell_type": "code",
      "source": [
        "sel_df = imputed_df_train[sel_columns]"
      ],
      "execution_count": 0,
      "outputs": []
    },
    {
      "metadata": {
        "id": "R4HHVok2Gwxh",
        "colab_type": "code",
        "colab": {
          "base_uri": "https://localhost:8080/",
          "height": 206
        },
        "outputId": "077ca4d3-44f3-475c-8f35-0bd6e7211c79"
      },
      "cell_type": "code",
      "source": [
        "sel_df.head()"
      ],
      "execution_count": 68,
      "outputs": [
        {
          "output_type": "execute_result",
          "data": {
            "text/html": [
              "<div>\n",
              "<style scoped>\n",
              "    .dataframe tbody tr th:only-of-type {\n",
              "        vertical-align: middle;\n",
              "    }\n",
              "\n",
              "    .dataframe tbody tr th {\n",
              "        vertical-align: top;\n",
              "    }\n",
              "\n",
              "    .dataframe thead th {\n",
              "        text-align: right;\n",
              "    }\n",
              "</style>\n",
              "<table border=\"1\" class=\"dataframe\">\n",
              "  <thead>\n",
              "    <tr style=\"text-align: right;\">\n",
              "      <th></th>\n",
              "      <th>mvar1</th>\n",
              "      <th>mvar3</th>\n",
              "      <th>mvar10</th>\n",
              "      <th>mvar11</th>\n",
              "      <th>mvar16</th>\n",
              "      <th>mvar17</th>\n",
              "      <th>mvar18</th>\n",
              "      <th>mvar21</th>\n",
              "      <th>mvar24</th>\n",
              "      <th>mvar28</th>\n",
              "      <th>mvar29</th>\n",
              "      <th>mvar39</th>\n",
              "      <th>mvar42</th>\n",
              "      <th>mvar43</th>\n",
              "      <th>mvar47</th>\n",
              "      <th>default_ind</th>\n",
              "    </tr>\n",
              "  </thead>\n",
              "  <tbody>\n",
              "    <tr>\n",
              "      <th>0</th>\n",
              "      <td>1696.0</td>\n",
              "      <td>0.000</td>\n",
              "      <td>18414.0</td>\n",
              "      <td>1780.0</td>\n",
              "      <td>1.0</td>\n",
              "      <td>1.0</td>\n",
              "      <td>1.0</td>\n",
              "      <td>94.78</td>\n",
              "      <td>72.25</td>\n",
              "      <td>61.0</td>\n",
              "      <td>4532.0</td>\n",
              "      <td>1.0</td>\n",
              "      <td>0.08696</td>\n",
              "      <td>10.0</td>\n",
              "      <td>0.0</td>\n",
              "      <td>0.0</td>\n",
              "    </tr>\n",
              "    <tr>\n",
              "      <th>1</th>\n",
              "      <td>1846.0</td>\n",
              "      <td>0.000</td>\n",
              "      <td>13664.0</td>\n",
              "      <td>1780.0</td>\n",
              "      <td>0.0</td>\n",
              "      <td>0.0</td>\n",
              "      <td>0.0</td>\n",
              "      <td>74.25</td>\n",
              "      <td>4.80</td>\n",
              "      <td>30386.0</td>\n",
              "      <td>2281.0</td>\n",
              "      <td>0.0</td>\n",
              "      <td>0.00000</td>\n",
              "      <td>13.0</td>\n",
              "      <td>1.0</td>\n",
              "      <td>1.0</td>\n",
              "    </tr>\n",
              "    <tr>\n",
              "      <th>2</th>\n",
              "      <td>1745.0</td>\n",
              "      <td>0.000</td>\n",
              "      <td>2536.0</td>\n",
              "      <td>1780.0</td>\n",
              "      <td>0.0</td>\n",
              "      <td>0.0</td>\n",
              "      <td>0.0</td>\n",
              "      <td>59.69</td>\n",
              "      <td>40.44</td>\n",
              "      <td>669.0</td>\n",
              "      <td>4623.0</td>\n",
              "      <td>0.0</td>\n",
              "      <td>0.00000</td>\n",
              "      <td>1.0</td>\n",
              "      <td>0.0</td>\n",
              "      <td>1.0</td>\n",
              "    </tr>\n",
              "    <tr>\n",
              "      <th>3</th>\n",
              "      <td>1739.0</td>\n",
              "      <td>0.000</td>\n",
              "      <td>37013.0</td>\n",
              "      <td>1780.0</td>\n",
              "      <td>0.0</td>\n",
              "      <td>0.0</td>\n",
              "      <td>0.0</td>\n",
              "      <td>59.69</td>\n",
              "      <td>0.00</td>\n",
              "      <td>91.0</td>\n",
              "      <td>5992.0</td>\n",
              "      <td>0.0</td>\n",
              "      <td>0.15385</td>\n",
              "      <td>3.0</td>\n",
              "      <td>1.0</td>\n",
              "      <td>0.0</td>\n",
              "    </tr>\n",
              "    <tr>\n",
              "      <th>4</th>\n",
              "      <td>1787.0</td>\n",
              "      <td>0.225</td>\n",
              "      <td>4696.0</td>\n",
              "      <td>1780.0</td>\n",
              "      <td>0.0</td>\n",
              "      <td>0.0</td>\n",
              "      <td>0.0</td>\n",
              "      <td>20.51</td>\n",
              "      <td>28.72</td>\n",
              "      <td>487.0</td>\n",
              "      <td>2707.0</td>\n",
              "      <td>0.0</td>\n",
              "      <td>0.00000</td>\n",
              "      <td>1.0</td>\n",
              "      <td>1.0</td>\n",
              "      <td>0.0</td>\n",
              "    </tr>\n",
              "  </tbody>\n",
              "</table>\n",
              "</div>"
            ],
            "text/plain": [
              "    mvar1  mvar3   mvar10  mvar11  mvar16  mvar17  mvar18  mvar21  mvar24  \\\n",
              "0  1696.0  0.000  18414.0  1780.0     1.0     1.0     1.0   94.78   72.25   \n",
              "1  1846.0  0.000  13664.0  1780.0     0.0     0.0     0.0   74.25    4.80   \n",
              "2  1745.0  0.000   2536.0  1780.0     0.0     0.0     0.0   59.69   40.44   \n",
              "3  1739.0  0.000  37013.0  1780.0     0.0     0.0     0.0   59.69    0.00   \n",
              "4  1787.0  0.225   4696.0  1780.0     0.0     0.0     0.0   20.51   28.72   \n",
              "\n",
              "    mvar28  mvar29  mvar39   mvar42  mvar43  mvar47  default_ind  \n",
              "0     61.0  4532.0     1.0  0.08696    10.0     0.0          0.0  \n",
              "1  30386.0  2281.0     0.0  0.00000    13.0     1.0          1.0  \n",
              "2    669.0  4623.0     0.0  0.00000     1.0     0.0          1.0  \n",
              "3     91.0  5992.0     0.0  0.15385     3.0     1.0          0.0  \n",
              "4    487.0  2707.0     0.0  0.00000     1.0     1.0          0.0  "
            ]
          },
          "metadata": {
            "tags": []
          },
          "execution_count": 68
        }
      ]
    },
    {
      "metadata": {
        "id": "AVJHDQldGwxl",
        "colab_type": "code",
        "colab": {}
      },
      "cell_type": "code",
      "source": [
        "X_sel = sel_df.drop(['default_ind'], axis = 1)\n",
        "y_sel = sel_df['default_ind']"
      ],
      "execution_count": 0,
      "outputs": []
    },
    {
      "metadata": {
        "id": "jbHedZYQGwxx",
        "colab_type": "code",
        "colab": {}
      },
      "cell_type": "code",
      "source": [
        "transformer = FunctionTransformer(np.log1p, validate=True)\n",
        "log_X_sel = transformer.fit_transform(X_sel)\n",
        "X_sel_train, X_sel_test, y_sel_train, y_sel_test = train_test_split(log_X_sel, y_sel, test_size=0.33, random_state=42)"
      ],
      "execution_count": 0,
      "outputs": []
    },
    {
      "metadata": {
        "id": "Wmo0OiiYGwx5",
        "colab_type": "code",
        "colab": {
          "base_uri": "https://localhost:8080/",
          "height": 34
        },
        "outputId": "60c80fa1-7f0e-4064-bcfd-4aac7972118d"
      },
      "cell_type": "code",
      "source": [
        "gbMod_sel = GradientBoostingClassifier(loss='deviance', learning_rate=0.1, n_estimators=200, subsample=1.0,\n",
        "                                   min_samples_split=2, min_samples_leaf=1, min_weight_fraction_leaf=0.0, \n",
        "                                   max_depth=3,\n",
        "                                   init=None, random_state=None, max_features=None, verbose=0)\n",
        "gbMod_sel.fit(X_sel_train, y_sel_train)\n",
        "gbMod_sel.score(X_sel_test, y_sel_test)\n",
        "test_labels=gbMod_sel.predict_proba(X_sel_test)[:,1]\n",
        "roc_auc_score(y_sel_test,test_labels , average='macro', sample_weight=None)"
      ],
      "execution_count": 71,
      "outputs": [
        {
          "output_type": "execute_result",
          "data": {
            "text/plain": [
              "0.8189989749206429"
            ]
          },
          "metadata": {
            "tags": []
          },
          "execution_count": 71
        }
      ]
    },
    {
      "metadata": {
        "id": "ElGqiZnqGwyB",
        "colab_type": "code",
        "colab": {
          "base_uri": "https://localhost:8080/",
          "height": 34
        },
        "outputId": "6c80b6ae-c0ac-4ac2-a858-bbcbc1a7b1ea"
      },
      "cell_type": "code",
      "source": [
        "gbMod_sel.score(X_sel_test, y_sel_test)"
      ],
      "execution_count": 72,
      "outputs": [
        {
          "output_type": "execute_result",
          "data": {
            "text/plain": [
              "0.7962878787878788"
            ]
          },
          "metadata": {
            "tags": []
          },
          "execution_count": 72
        }
      ]
    },
    {
      "metadata": {
        "id": "RBaZErwIGwyG",
        "colab_type": "code",
        "colab": {
          "base_uri": "https://localhost:8080/",
          "height": 34
        },
        "outputId": "a9514fb2-12b7-4265-f43e-5e497f081f43"
      },
      "cell_type": "code",
      "source": [
        "roc_auc_score(y_sel_test,test_labels , average='macro', sample_weight=None)"
      ],
      "execution_count": 73,
      "outputs": [
        {
          "output_type": "execute_result",
          "data": {
            "text/plain": [
              "0.8189989749206429"
            ]
          },
          "metadata": {
            "tags": []
          },
          "execution_count": 73
        }
      ]
    },
    {
      "metadata": {
        "id": "RlcOVQgvGwyT",
        "colab_type": "code",
        "colab": {}
      },
      "cell_type": "code",
      "source": [
        "from sklearn.decomposition import PCA"
      ],
      "execution_count": 0,
      "outputs": []
    },
    {
      "metadata": {
        "id": "MQX1gZQ_GwyW",
        "colab_type": "code",
        "colab": {}
      },
      "cell_type": "code",
      "source": [
        "pca = PCA(.95)\n",
        "pca_X = pca.fit_transform(log_X)\n",
        "pca_y = y_sel"
      ],
      "execution_count": 0,
      "outputs": []
    },
    {
      "metadata": {
        "id": "i8ANNXEQGwyb",
        "colab_type": "code",
        "colab": {}
      },
      "cell_type": "code",
      "source": [
        "pca_X = pca.fit(log_X)\n",
        "pca.n_components_\n",
        "pca_X = pca.transform(log_X)"
      ],
      "execution_count": 0,
      "outputs": []
    },
    {
      "metadata": {
        "id": "jcYaVvAJGwyh",
        "colab_type": "code",
        "colab": {}
      },
      "cell_type": "code",
      "source": [
        "gbMod_pca.score(X_pca_test, y_pca_test)"
      ],
      "execution_count": 0,
      "outputs": []
    },
    {
      "metadata": {
        "id": "6CXiFVZ0Gwyl",
        "colab_type": "code",
        "colab": {}
      },
      "cell_type": "code",
      "source": [
        "X_pca_train, X_pca_test, y_pca_train, y_pca_test = train_test_split(pca_X, pca_y, test_size=0.33, random_state=42)"
      ],
      "execution_count": 0,
      "outputs": []
    },
    {
      "metadata": {
        "id": "aGbZYsoSGwyo",
        "colab_type": "code",
        "colab": {
          "base_uri": "https://localhost:8080/",
          "height": 34
        },
        "outputId": "478e8d08-d2d4-4a7d-a9c3-cb9d0b25f7d8"
      },
      "cell_type": "code",
      "source": [
        "gbMod_pca = GradientBoostingClassifier(loss='deviance', learning_rate=0.1, n_estimators=200, subsample=1.0,\n",
        "                                   min_samples_split=2, min_samples_leaf=1, min_weight_fraction_leaf=0.0, \n",
        "                                   max_depth=3,\n",
        "                                   init=None, random_state=None, max_features=None, verbose=0)\n",
        "gbMod_pca.fit(X_pca_train, y_pca_train)\n",
        "gbMod_pca.score(X_pca_test, y_pca_test)\n",
        "test_labels=gbMod_pca.predict_proba(X_pca_test)[:,1]\n",
        "roc_auc_score(y_pca_test,test_labels , average='macro', sample_weight=None)"
      ],
      "execution_count": 80,
      "outputs": [
        {
          "output_type": "execute_result",
          "data": {
            "text/plain": [
              "0.8032350709075365"
            ]
          },
          "metadata": {
            "tags": []
          },
          "execution_count": 80
        }
      ]
    },
    {
      "metadata": {
        "id": "gXcpA4nSGwy_",
        "colab_type": "code",
        "colab": {
          "base_uri": "https://localhost:8080/",
          "height": 34
        },
        "outputId": "624ab651-20d3-44fe-e78c-2598b57699b0"
      },
      "cell_type": "code",
      "source": [
        "gbMod_pca.score(X_pca_test, y_pca_test)"
      ],
      "execution_count": 81,
      "outputs": [
        {
          "output_type": "execute_result",
          "data": {
            "text/plain": [
              "0.7833712121212121"
            ]
          },
          "metadata": {
            "tags": []
          },
          "execution_count": 81
        }
      ]
    },
    {
      "metadata": {
        "id": "-J97iWMdGwzG",
        "colab_type": "code",
        "colab": {}
      },
      "cell_type": "code",
      "source": [
        "#HyperParameter Tunings"
      ],
      "execution_count": 0,
      "outputs": []
    },
    {
      "metadata": {
        "id": "qpDSM_EaGwzK",
        "colab_type": "code",
        "colab": {}
      },
      "cell_type": "code",
      "source": [
        "from sklearn.model_selection import RandomizedSearchCV\n",
        "from scipy.stats import randint"
      ],
      "execution_count": 0,
      "outputs": []
    },
    {
      "metadata": {
        "id": "12s7n_RmGwzO",
        "colab_type": "code",
        "colab": {}
      },
      "cell_type": "code",
      "source": [
        "gbHyperParams = {'loss' : ['deviance', 'exponential'],\n",
        "                 'n_estimators': randint(10, 500),\n",
        "                 'max_depth': randint(1,10)}"
      ],
      "execution_count": 0,
      "outputs": []
    },
    {
      "metadata": {
        "id": "vQ8lmuwbGwzW",
        "colab_type": "code",
        "colab": {}
      },
      "cell_type": "code",
      "source": [
        "#Corr DataSet"
      ],
      "execution_count": 0,
      "outputs": []
    },
    {
      "metadata": {
        "id": "xVqxKyq2Rkv1",
        "colab_type": "code",
        "colab": {}
      },
      "cell_type": "code",
      "source": [
        "gbMod = GradientBoostingClassifier(loss='deviance', learning_rate=0.1, n_estimators=200, subsample=1.0,\n",
        "                                   min_samples_split=2, min_samples_leaf=1, min_weight_fraction_leaf=0.0, \n",
        "                                   max_depth=3,\n",
        "                                   init=None, random_state=None, max_features=None, verbose=0)"
      ],
      "execution_count": 0,
      "outputs": []
    },
    {
      "metadata": {
        "id": "oIUgSI36GwzY",
        "colab_type": "code",
        "colab": {
          "base_uri": "https://localhost:8080/",
          "height": 1183
        },
        "outputId": "f5a35ece-a2c0-4a16-dc4c-55a3222847aa"
      },
      "cell_type": "code",
      "source": [
        "gridSearchGB = RandomizedSearchCV(estimator=gbMod, param_distributions=gbHyperParams, n_iter=10,\n",
        "                                   scoring='roc_auc', fit_params=None, cv=None, verbose=2).fit(log_X_sel, y_sel)"
      ],
      "execution_count": 85,
      "outputs": [
        {
          "output_type": "stream",
          "text": [
            "/usr/local/lib/python3.6/dist-packages/sklearn/model_selection/_split.py:1943: FutureWarning: You should specify a value for 'cv' instead of relying on the default value. The default value will change from 3 to 5 in version 0.22.\n",
            "  warnings.warn(CV_WARNING, FutureWarning)\n",
            "[Parallel(n_jobs=1)]: Using backend SequentialBackend with 1 concurrent workers.\n"
          ],
          "name": "stderr"
        },
        {
          "output_type": "stream",
          "text": [
            "Fitting 3 folds for each of 10 candidates, totalling 30 fits\n",
            "[CV] loss=deviance, max_depth=5, n_estimators=299 ....................\n",
            "[CV] ..... loss=deviance, max_depth=5, n_estimators=299, total=  32.8s\n",
            "[CV] loss=deviance, max_depth=5, n_estimators=299 ....................\n"
          ],
          "name": "stdout"
        },
        {
          "output_type": "stream",
          "text": [
            "[Parallel(n_jobs=1)]: Done   1 out of   1 | elapsed:   33.2s remaining:    0.0s\n"
          ],
          "name": "stderr"
        },
        {
          "output_type": "stream",
          "text": [
            "[CV] ..... loss=deviance, max_depth=5, n_estimators=299, total=  32.4s\n",
            "[CV] loss=deviance, max_depth=5, n_estimators=299 ....................\n",
            "[CV] ..... loss=deviance, max_depth=5, n_estimators=299, total=  33.0s\n",
            "[CV] loss=deviance, max_depth=3, n_estimators=478 ....................\n",
            "[CV] ..... loss=deviance, max_depth=3, n_estimators=478, total=  26.3s\n",
            "[CV] loss=deviance, max_depth=3, n_estimators=478 ....................\n",
            "[CV] ..... loss=deviance, max_depth=3, n_estimators=478, total=  25.9s\n",
            "[CV] loss=deviance, max_depth=3, n_estimators=478 ....................\n",
            "[CV] ..... loss=deviance, max_depth=3, n_estimators=478, total=  25.2s\n",
            "[CV] loss=deviance, max_depth=3, n_estimators=17 .....................\n",
            "[CV] ...... loss=deviance, max_depth=3, n_estimators=17, total=   1.2s\n",
            "[CV] loss=deviance, max_depth=3, n_estimators=17 .....................\n",
            "[CV] ...... loss=deviance, max_depth=3, n_estimators=17, total=   1.2s\n",
            "[CV] loss=deviance, max_depth=3, n_estimators=17 .....................\n",
            "[CV] ...... loss=deviance, max_depth=3, n_estimators=17, total=   1.2s\n",
            "[CV] loss=exponential, max_depth=5, n_estimators=212 .................\n",
            "[CV] .. loss=exponential, max_depth=5, n_estimators=212, total=  23.6s\n",
            "[CV] loss=exponential, max_depth=5, n_estimators=212 .................\n",
            "[CV] .. loss=exponential, max_depth=5, n_estimators=212, total=  23.8s\n",
            "[CV] loss=exponential, max_depth=5, n_estimators=212 .................\n",
            "[CV] .. loss=exponential, max_depth=5, n_estimators=212, total=  24.5s\n",
            "[CV] loss=deviance, max_depth=5, n_estimators=224 ....................\n",
            "[CV] ..... loss=deviance, max_depth=5, n_estimators=224, total=  24.7s\n",
            "[CV] loss=deviance, max_depth=5, n_estimators=224 ....................\n",
            "[CV] ..... loss=deviance, max_depth=5, n_estimators=224, total=  24.3s\n",
            "[CV] loss=deviance, max_depth=5, n_estimators=224 ....................\n",
            "[CV] ..... loss=deviance, max_depth=5, n_estimators=224, total=  25.4s\n",
            "[CV] loss=deviance, max_depth=7, n_estimators=446 ....................\n",
            "[CV] ..... loss=deviance, max_depth=7, n_estimators=446, total= 1.6min\n",
            "[CV] loss=deviance, max_depth=7, n_estimators=446 ....................\n",
            "[CV] ..... loss=deviance, max_depth=7, n_estimators=446, total= 1.5min\n",
            "[CV] loss=deviance, max_depth=7, n_estimators=446 ....................\n",
            "[CV] ..... loss=deviance, max_depth=7, n_estimators=446, total= 1.5min\n",
            "[CV] loss=deviance, max_depth=8, n_estimators=416 ....................\n",
            "[CV] ..... loss=deviance, max_depth=8, n_estimators=416, total= 2.1min\n",
            "[CV] loss=deviance, max_depth=8, n_estimators=416 ....................\n",
            "[CV] ..... loss=deviance, max_depth=8, n_estimators=416, total= 2.1min\n",
            "[CV] loss=deviance, max_depth=8, n_estimators=416 ....................\n",
            "[CV] ..... loss=deviance, max_depth=8, n_estimators=416, total= 2.1min\n",
            "[CV] loss=exponential, max_depth=3, n_estimators=76 ..................\n",
            "[CV] ... loss=exponential, max_depth=3, n_estimators=76, total=   4.8s\n",
            "[CV] loss=exponential, max_depth=3, n_estimators=76 ..................\n",
            "[CV] ... loss=exponential, max_depth=3, n_estimators=76, total=   4.8s\n",
            "[CV] loss=exponential, max_depth=3, n_estimators=76 ..................\n",
            "[CV] ... loss=exponential, max_depth=3, n_estimators=76, total=   4.8s\n",
            "[CV] loss=exponential, max_depth=4, n_estimators=436 .................\n",
            "[CV] .. loss=exponential, max_depth=4, n_estimators=436, total=  35.6s\n",
            "[CV] loss=exponential, max_depth=4, n_estimators=436 .................\n",
            "[CV] .. loss=exponential, max_depth=4, n_estimators=436, total=  34.6s\n",
            "[CV] loss=exponential, max_depth=4, n_estimators=436 .................\n",
            "[CV] .. loss=exponential, max_depth=4, n_estimators=436, total=  34.8s\n",
            "[CV] loss=exponential, max_depth=9, n_estimators=194 .................\n",
            "[CV] .. loss=exponential, max_depth=9, n_estimators=194, total= 1.5min\n",
            "[CV] loss=exponential, max_depth=9, n_estimators=194 .................\n",
            "[CV] .. loss=exponential, max_depth=9, n_estimators=194, total= 1.4min\n",
            "[CV] loss=exponential, max_depth=9, n_estimators=194 .................\n",
            "[CV] .. loss=exponential, max_depth=9, n_estimators=194, total= 1.4min\n"
          ],
          "name": "stdout"
        },
        {
          "output_type": "stream",
          "text": [
            "[Parallel(n_jobs=1)]: Done  30 out of  30 | elapsed: 22.8min finished\n"
          ],
          "name": "stderr"
        }
      ]
    },
    {
      "metadata": {
        "id": "LXRPL4kZYRJ3",
        "colab_type": "code",
        "colab": {
          "base_uri": "https://localhost:8080/",
          "height": 34
        },
        "outputId": "909187b8-1454-493c-fa82-bbd7fea5a0cc"
      },
      "cell_type": "code",
      "source": [
        "gridSearchGB.best_params_, gridSearchGB.best_score_"
      ],
      "execution_count": 86,
      "outputs": [
        {
          "output_type": "execute_result",
          "data": {
            "text/plain": [
              "({'loss': 'deviance', 'max_depth': 3, 'n_estimators': 478}, 0.8167840799473102)"
            ]
          },
          "metadata": {
            "tags": []
          },
          "execution_count": 86
        }
      ]
    },
    {
      "metadata": {
        "id": "yVweAIbYGwzb",
        "colab_type": "code",
        "colab": {}
      },
      "cell_type": "code",
      "source": [
        "#PCA dataset"
      ],
      "execution_count": 0,
      "outputs": []
    },
    {
      "metadata": {
        "id": "eVZI_zYCY2Qz",
        "colab_type": "code",
        "colab": {}
      },
      "cell_type": "code",
      "source": [
        "gbMod = GradientBoostingClassifier(loss='deviance', learning_rate=0.1, n_estimators=200, subsample=1.0,\n",
        "                                   min_samples_split=2, min_samples_leaf=1, min_weight_fraction_leaf=0.0, \n",
        "                                   max_depth=3,\n",
        "                                   init=None, random_state=None, max_features=None, verbose=0)"
      ],
      "execution_count": 0,
      "outputs": []
    },
    {
      "metadata": {
        "id": "BDcAAbkKY5pe",
        "colab_type": "code",
        "colab": {
          "base_uri": "https://localhost:8080/",
          "height": 1183
        },
        "outputId": "61926b86-cfdb-46db-aa7b-6f68fa0b78fc"
      },
      "cell_type": "code",
      "source": [
        "gridSearchGB_pca = RandomizedSearchCV(estimator=gbMod, param_distributions=gbHyperParams, n_iter=10,\n",
        "\n",
        "                                   scoring='roc_auc', fit_params=None, cv=None, verbose=2).fit(pca_X, pca_y)"
      ],
      "execution_count": 89,
      "outputs": [
        {
          "output_type": "stream",
          "text": [
            "/usr/local/lib/python3.6/dist-packages/sklearn/model_selection/_split.py:1943: FutureWarning: You should specify a value for 'cv' instead of relying on the default value. The default value will change from 3 to 5 in version 0.22.\n",
            "  warnings.warn(CV_WARNING, FutureWarning)\n",
            "[Parallel(n_jobs=1)]: Using backend SequentialBackend with 1 concurrent workers.\n"
          ],
          "name": "stderr"
        },
        {
          "output_type": "stream",
          "text": [
            "Fitting 3 folds for each of 10 candidates, totalling 30 fits\n",
            "[CV] loss=exponential, max_depth=3, n_estimators=259 .................\n",
            "[CV] .. loss=exponential, max_depth=3, n_estimators=259, total=  38.5s\n",
            "[CV] loss=exponential, max_depth=3, n_estimators=259 .................\n"
          ],
          "name": "stdout"
        },
        {
          "output_type": "stream",
          "text": [
            "[Parallel(n_jobs=1)]: Done   1 out of   1 | elapsed:   38.7s remaining:    0.0s\n"
          ],
          "name": "stderr"
        },
        {
          "output_type": "stream",
          "text": [
            "[CV] .. loss=exponential, max_depth=3, n_estimators=259, total=  39.0s\n",
            "[CV] loss=exponential, max_depth=3, n_estimators=259 .................\n",
            "[CV] .. loss=exponential, max_depth=3, n_estimators=259, total=  38.8s\n",
            "[CV] loss=deviance, max_depth=2, n_estimators=252 ....................\n",
            "[CV] ..... loss=deviance, max_depth=2, n_estimators=252, total=  23.7s\n",
            "[CV] loss=deviance, max_depth=2, n_estimators=252 ....................\n",
            "[CV] ..... loss=deviance, max_depth=2, n_estimators=252, total=  24.2s\n",
            "[CV] loss=deviance, max_depth=2, n_estimators=252 ....................\n",
            "[CV] ..... loss=deviance, max_depth=2, n_estimators=252, total=  22.8s\n",
            "[CV] loss=exponential, max_depth=8, n_estimators=309 .................\n",
            "[CV] .. loss=exponential, max_depth=8, n_estimators=309, total= 3.0min\n",
            "[CV] loss=exponential, max_depth=8, n_estimators=309 .................\n",
            "[CV] .. loss=exponential, max_depth=8, n_estimators=309, total= 3.0min\n",
            "[CV] loss=exponential, max_depth=8, n_estimators=309 .................\n",
            "[CV] .. loss=exponential, max_depth=8, n_estimators=309, total= 3.3min\n",
            "[CV] loss=deviance, max_depth=7, n_estimators=129 ....................\n",
            "[CV] ..... loss=deviance, max_depth=7, n_estimators=129, total= 1.1min\n",
            "[CV] loss=deviance, max_depth=7, n_estimators=129 ....................\n",
            "[CV] ..... loss=deviance, max_depth=7, n_estimators=129, total= 1.1min\n",
            "[CV] loss=deviance, max_depth=7, n_estimators=129 ....................\n",
            "[CV] ..... loss=deviance, max_depth=7, n_estimators=129, total= 1.1min\n",
            "[CV] loss=exponential, max_depth=3, n_estimators=491 .................\n",
            "[CV] .. loss=exponential, max_depth=3, n_estimators=491, total= 1.2min\n",
            "[CV] loss=exponential, max_depth=3, n_estimators=491 .................\n",
            "[CV] .. loss=exponential, max_depth=3, n_estimators=491, total= 1.2min\n",
            "[CV] loss=exponential, max_depth=3, n_estimators=491 .................\n",
            "[CV] .. loss=exponential, max_depth=3, n_estimators=491, total= 1.1min\n",
            "[CV] loss=deviance, max_depth=7, n_estimators=63 .....................\n",
            "[CV] ...... loss=deviance, max_depth=7, n_estimators=63, total=  32.5s\n",
            "[CV] loss=deviance, max_depth=7, n_estimators=63 .....................\n",
            "[CV] ...... loss=deviance, max_depth=7, n_estimators=63, total=  32.0s\n",
            "[CV] loss=deviance, max_depth=7, n_estimators=63 .....................\n",
            "[CV] ...... loss=deviance, max_depth=7, n_estimators=63, total=  32.7s\n",
            "[CV] loss=deviance, max_depth=1, n_estimators=358 ....................\n",
            "[CV] ..... loss=deviance, max_depth=1, n_estimators=358, total=  16.8s\n",
            "[CV] loss=deviance, max_depth=1, n_estimators=358 ....................\n",
            "[CV] ..... loss=deviance, max_depth=1, n_estimators=358, total=  16.6s\n",
            "[CV] loss=deviance, max_depth=1, n_estimators=358 ....................\n",
            "[CV] ..... loss=deviance, max_depth=1, n_estimators=358, total=  16.7s\n",
            "[CV] loss=deviance, max_depth=4, n_estimators=446 ....................\n",
            "[CV] ..... loss=deviance, max_depth=4, n_estimators=446, total= 1.4min\n",
            "[CV] loss=deviance, max_depth=4, n_estimators=446 ....................\n",
            "[CV] ..... loss=deviance, max_depth=4, n_estimators=446, total= 1.5min\n",
            "[CV] loss=deviance, max_depth=4, n_estimators=446 ....................\n",
            "[CV] ..... loss=deviance, max_depth=4, n_estimators=446, total= 1.5min\n",
            "[CV] loss=deviance, max_depth=4, n_estimators=145 ....................\n",
            "[CV] ..... loss=deviance, max_depth=4, n_estimators=145, total=  30.8s\n",
            "[CV] loss=deviance, max_depth=4, n_estimators=145 ....................\n",
            "[CV] ..... loss=deviance, max_depth=4, n_estimators=145, total=  30.2s\n",
            "[CV] loss=deviance, max_depth=4, n_estimators=145 ....................\n",
            "[CV] ..... loss=deviance, max_depth=4, n_estimators=145, total=  30.0s\n",
            "[CV] loss=deviance, max_depth=7, n_estimators=271 ....................\n",
            "[CV] ..... loss=deviance, max_depth=7, n_estimators=271, total= 2.2min\n",
            "[CV] loss=deviance, max_depth=7, n_estimators=271 ....................\n",
            "[CV] ..... loss=deviance, max_depth=7, n_estimators=271, total= 2.2min\n",
            "[CV] loss=deviance, max_depth=7, n_estimators=271 ....................\n",
            "[CV] ..... loss=deviance, max_depth=7, n_estimators=271, total= 2.0min\n"
          ],
          "name": "stdout"
        },
        {
          "output_type": "stream",
          "text": [
            "[Parallel(n_jobs=1)]: Done  30 out of  30 | elapsed: 34.2min finished\n"
          ],
          "name": "stderr"
        }
      ]
    },
    {
      "metadata": {
        "id": "YklWkqkzZJa1",
        "colab_type": "code",
        "colab": {}
      },
      "cell_type": "code",
      "source": [
        "#Corr DataSet best params"
      ],
      "execution_count": 0,
      "outputs": []
    },
    {
      "metadata": {
        "id": "8aKD5rd0hMvj",
        "colab_type": "code",
        "colab": {}
      },
      "cell_type": "code",
      "source": [
        "bestGbModFitted_corr = gridSearchGB.best_estimator_.fit(X_sel_train, y_sel_train)"
      ],
      "execution_count": 0,
      "outputs": []
    },
    {
      "metadata": {
        "id": "5nvjCF_Ahd0f",
        "colab_type": "code",
        "colab": {
          "base_uri": "https://localhost:8080/",
          "height": 34
        },
        "outputId": "76cc5124-4052-48d4-a1fe-6f4983cba72a"
      },
      "cell_type": "code",
      "source": [
        "test_labels=bestGbModFitted_corr.predict_proba(X_sel_test)[:,1]\n",
        "roc_auc_score(y_sel_test,test_labels , average='macro', sample_weight=None)"
      ],
      "execution_count": 92,
      "outputs": [
        {
          "output_type": "execute_result",
          "data": {
            "text/plain": [
              "0.819148310301713"
            ]
          },
          "metadata": {
            "tags": []
          },
          "execution_count": 92
        }
      ]
    },
    {
      "metadata": {
        "id": "ZGnyq7Efhp3M",
        "colab_type": "code",
        "colab": {}
      },
      "cell_type": "code",
      "source": [
        "#PCA DataSet best params"
      ],
      "execution_count": 0,
      "outputs": []
    },
    {
      "metadata": {
        "id": "MIsdDS8-h2s-",
        "colab_type": "code",
        "colab": {}
      },
      "cell_type": "code",
      "source": [
        "bestGbModFitted_pca = gridSearchGB_pca.best_estimator_.fit(X_pca_train, y_pca_train)"
      ],
      "execution_count": 0,
      "outputs": []
    },
    {
      "metadata": {
        "id": "t3VG-4GCh_YJ",
        "colab_type": "code",
        "colab": {
          "base_uri": "https://localhost:8080/",
          "height": 34
        },
        "outputId": "9663502b-b741-4a56-c369-11cd5033911b"
      },
      "cell_type": "code",
      "source": [
        "test_labels=bestGbModFitted_pca.predict_proba(X_pca_test)[:,1]\n",
        "roc_auc_score(y_pca_test,test_labels , average='macro', sample_weight=None)"
      ],
      "execution_count": 95,
      "outputs": [
        {
          "output_type": "execute_result",
          "data": {
            "text/plain": [
              "0.7986777566192764"
            ]
          },
          "metadata": {
            "tags": []
          },
          "execution_count": 95
        }
      ]
    },
    {
      "metadata": {
        "id": "I1sFAh91iINV",
        "colab_type": "code",
        "colab": {}
      },
      "cell_type": "code",
      "source": [
        ""
      ],
      "execution_count": 0,
      "outputs": []
    }
  ]
}